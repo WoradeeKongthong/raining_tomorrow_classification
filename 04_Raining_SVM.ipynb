{
  "nbformat": 4,
  "nbformat_minor": 0,
  "metadata": {
    "colab": {
      "name": "04_Raining_SVM.ipynb",
      "provenance": [],
      "authorship_tag": "ABX9TyOVLtOBqg9jq17zgUu4RSO0",
      "include_colab_link": true
    },
    "kernelspec": {
      "name": "python3",
      "display_name": "Python 3"
    }
  },
  "cells": [
    {
      "cell_type": "markdown",
      "metadata": {
        "id": "view-in-github",
        "colab_type": "text"
      },
      "source": [
        "<a href=\"https://colab.research.google.com/github/WoradeeKongthong/raining_tomorrow_classification/blob/master/04_Raining_SVM.ipynb\" target=\"_parent\"><img src=\"https://colab.research.google.com/assets/colab-badge.svg\" alt=\"Open In Colab\"/></a>"
      ]
    },
    {
      "cell_type": "markdown",
      "metadata": {
        "id": "NzAQNizAP0nG",
        "colab_type": "text"
      },
      "source": [
        "Based on Feature Engineering in part 02  \n",
        "Outliers : I'll cap the outliers in X_train. And cap the outliers in X_test using the boundaries of X_train.  \n",
        "Missing values : I'll impute the missing values in categorical features with 'most frequent' value,  \n",
        "and impute the missing values in numerical features with median."
      ]
    },
    {
      "cell_type": "code",
      "metadata": {
        "id": "Zyn_b_XCxRkV",
        "colab_type": "code",
        "colab": {}
      },
      "source": [
        "# libraries\n",
        "import pandas as pd\n",
        "import numpy as np\n",
        "\n",
        "from sklearn.impute import SimpleImputer\n",
        "from sklearn.preprocessing import OneHotEncoder, StandardScaler, MinMaxScaler\n",
        "from sklearn.compose import ColumnTransformer, make_column_transformer\n",
        "from sklearn.pipeline import Pipeline\n",
        "\n",
        "from sklearn.model_selection import cross_val_score\n",
        "from sklearn.model_selection import train_test_split\n",
        "from sklearn.metrics import confusion_matrix, accuracy_score, classification_report"
      ],
      "execution_count": 0,
      "outputs": []
    },
    {
      "cell_type": "markdown",
      "metadata": {
        "id": "HbQH-UK5xWlL",
        "colab_type": "text"
      },
      "source": [
        "# **Data Set**"
      ]
    },
    {
      "cell_type": "code",
      "metadata": {
        "id": "UF6DT6FQxUxt",
        "colab_type": "code",
        "colab": {}
      },
      "source": [
        "df = pd.read_csv('https://raw.githubusercontent.com/WoradeeKongthong/raining_tomorrow_classification/master/weatherAUS.csv')"
      ],
      "execution_count": 0,
      "outputs": []
    },
    {
      "cell_type": "code",
      "metadata": {
        "id": "MPNHKHJ7xeWT",
        "colab_type": "code",
        "outputId": "9fe6d98b-c81b-4362-e14f-684e073faf0f",
        "colab": {
          "base_uri": "https://localhost:8080/",
          "height": 0
        }
      },
      "source": [
        "df.info()"
      ],
      "execution_count": 3,
      "outputs": [
        {
          "output_type": "stream",
          "text": [
            "<class 'pandas.core.frame.DataFrame'>\n",
            "RangeIndex: 142193 entries, 0 to 142192\n",
            "Data columns (total 24 columns):\n",
            " #   Column         Non-Null Count   Dtype  \n",
            "---  ------         --------------   -----  \n",
            " 0   Date           142193 non-null  object \n",
            " 1   Location       142193 non-null  object \n",
            " 2   MinTemp        141556 non-null  float64\n",
            " 3   MaxTemp        141871 non-null  float64\n",
            " 4   Rainfall       140787 non-null  float64\n",
            " 5   Evaporation    81350 non-null   float64\n",
            " 6   Sunshine       74377 non-null   float64\n",
            " 7   WindGustDir    132863 non-null  object \n",
            " 8   WindGustSpeed  132923 non-null  float64\n",
            " 9   WindDir9am     132180 non-null  object \n",
            " 10  WindDir3pm     138415 non-null  object \n",
            " 11  WindSpeed9am   140845 non-null  float64\n",
            " 12  WindSpeed3pm   139563 non-null  float64\n",
            " 13  Humidity9am    140419 non-null  float64\n",
            " 14  Humidity3pm    138583 non-null  float64\n",
            " 15  Pressure9am    128179 non-null  float64\n",
            " 16  Pressure3pm    128212 non-null  float64\n",
            " 17  Cloud9am       88536 non-null   float64\n",
            " 18  Cloud3pm       85099 non-null   float64\n",
            " 19  Temp9am        141289 non-null  float64\n",
            " 20  Temp3pm        139467 non-null  float64\n",
            " 21  RainToday      140787 non-null  object \n",
            " 22  RISK_MM        142193 non-null  float64\n",
            " 23  RainTomorrow   142193 non-null  object \n",
            "dtypes: float64(17), object(7)\n",
            "memory usage: 26.0+ MB\n"
          ],
          "name": "stdout"
        }
      ]
    },
    {
      "cell_type": "code",
      "metadata": {
        "id": "zj7iJFs5yR4t",
        "colab_type": "code",
        "colab": {}
      },
      "source": [
        "# drop RISK_MM column (Recommendation from data description in Kaggle)\n",
        "df.drop(['RISK_MM'], axis = 1, inplace = True)\n",
        "\n",
        "# Extract Year, Month, Day from Date column\n",
        "df['Date'] = pd.to_datetime(df['Date'])\n",
        "df['Year'] = df['Date'].dt.year\n",
        "df['Month'] = df['Date'].dt.month\n",
        "df['Day'] = df['Date'].dt.day\n",
        "\n",
        "# drop Date column\n",
        "df.drop(['Date'], axis = 1, inplace = True)\n",
        "\n",
        "# select year 2015-2017 to train the model\n",
        "df = df[df['Year'] > 2014]"
      ],
      "execution_count": 0,
      "outputs": []
    },
    {
      "cell_type": "code",
      "metadata": {
        "id": "wib900L2yWUs",
        "colab_type": "code",
        "outputId": "fce9c96b-4c84-4be9-e356-c7ee8108db34",
        "colab": {
          "base_uri": "https://localhost:8080/",
          "height": 0
        }
      },
      "source": [
        "df.info()"
      ],
      "execution_count": 5,
      "outputs": [
        {
          "output_type": "stream",
          "text": [
            "<class 'pandas.core.frame.DataFrame'>\n",
            "Int64Index: 43205 entries, 2109 to 142192\n",
            "Data columns (total 25 columns):\n",
            " #   Column         Non-Null Count  Dtype  \n",
            "---  ------         --------------  -----  \n",
            " 0   Location       43205 non-null  object \n",
            " 1   MinTemp        43002 non-null  float64\n",
            " 2   MaxTemp        43081 non-null  float64\n",
            " 3   Rainfall       42799 non-null  float64\n",
            " 4   Evaporation    19472 non-null  float64\n",
            " 5   Sunshine       16085 non-null  float64\n",
            " 6   WindGustDir    40818 non-null  object \n",
            " 7   WindGustSpeed  40837 non-null  float64\n",
            " 8   WindDir9am     40515 non-null  object \n",
            " 9   WindDir3pm     41457 non-null  object \n",
            " 10  WindSpeed9am   42990 non-null  float64\n",
            " 11  WindSpeed3pm   41715 non-null  float64\n",
            " 12  Humidity9am    42696 non-null  float64\n",
            " 13  Humidity3pm    40781 non-null  float64\n",
            " 14  Pressure9am    38536 non-null  float64\n",
            " 15  Pressure3pm    38533 non-null  float64\n",
            " 16  Cloud9am       25312 non-null  float64\n",
            " 17  Cloud3pm       22877 non-null  float64\n",
            " 18  Temp9am        43084 non-null  float64\n",
            " 19  Temp3pm        41142 non-null  float64\n",
            " 20  RainToday      42799 non-null  object \n",
            " 21  RainTomorrow   43205 non-null  object \n",
            " 22  Year           43205 non-null  int64  \n",
            " 23  Month          43205 non-null  int64  \n",
            " 24  Day            43205 non-null  int64  \n",
            "dtypes: float64(16), int64(3), object(6)\n",
            "memory usage: 8.6+ MB\n"
          ],
          "name": "stdout"
        }
      ]
    },
    {
      "cell_type": "code",
      "metadata": {
        "id": "DyVUietnBKdC",
        "colab_type": "code",
        "colab": {}
      },
      "source": [
        "X = df.drop(['RainTomorrow'], axis=1)\n",
        "y = df['RainTomorrow']"
      ],
      "execution_count": 0,
      "outputs": []
    },
    {
      "cell_type": "code",
      "metadata": {
        "id": "6i2T_KdUJl_Q",
        "colab_type": "code",
        "colab": {}
      },
      "source": [
        "X_train, X_test, y_train, y_test = train_test_split(X,y,test_size=0.2)"
      ],
      "execution_count": 0,
      "outputs": []
    },
    {
      "cell_type": "markdown",
      "metadata": {
        "colab_type": "text",
        "id": "eld7lLTwHqIb"
      },
      "source": [
        "# **Handle the Outliers**\n",
        "Training Set\n",
        "- cap the outliers in X_train\n",
        "\n",
        "Test Set\n",
        "- cap the outliers in X_test using the upper_cap and lower_cap of X_train"
      ]
    },
    {
      "cell_type": "markdown",
      "metadata": {
        "id": "W10238cQdgk_",
        "colab_type": "text"
      },
      "source": [
        "## **Cap the outlier in X_train**"
      ]
    },
    {
      "cell_type": "code",
      "metadata": {
        "colab_type": "code",
        "id": "LhH5ybtJea9k",
        "colab": {
          "base_uri": "https://localhost:8080/",
          "height": 0
        },
        "outputId": "58d2c602-b82c-47e3-fdc3-84bbca68ab29"
      },
      "source": [
        "Q1 = X_train.quantile(0.25)\n",
        "Q3 = X_train.quantile(0.75)\n",
        "IQR = Q3 - Q1\n",
        "\n",
        "lower_cap = Q1 - 1.5*IQR\n",
        "upper_cap = Q3 + 1.5*IQR\n",
        "\n",
        "features = lower_cap.index.values\n",
        "\n",
        "for feature in features :\n",
        "  X_train.loc[:,feature] = np.where(X_train.loc[:,feature]<lower_cap[feature],lower_cap[feature], X_train.loc[:,feature])\n",
        "  X_train.loc[:,feature] = np.where(X_train.loc[:,feature]>upper_cap[feature],upper_cap[feature], X_train.loc[:,feature])"
      ],
      "execution_count": 8,
      "outputs": [
        {
          "output_type": "stream",
          "text": [
            "/usr/local/lib/python3.6/dist-packages/pandas/core/indexing.py:966: SettingWithCopyWarning: \n",
            "A value is trying to be set on a copy of a slice from a DataFrame.\n",
            "Try using .loc[row_indexer,col_indexer] = value instead\n",
            "\n",
            "See the caveats in the documentation: https://pandas.pydata.org/pandas-docs/stable/user_guide/indexing.html#returning-a-view-versus-a-copy\n",
            "  self.obj[item] = s\n"
          ],
          "name": "stderr"
        }
      ]
    },
    {
      "cell_type": "markdown",
      "metadata": {
        "id": "KuEdINujegSA",
        "colab_type": "text"
      },
      "source": [
        "## **Cap the outlier in X_test**"
      ]
    },
    {
      "cell_type": "code",
      "metadata": {
        "colab_type": "code",
        "id": "2-2YEbQcea9p",
        "colab": {
          "base_uri": "https://localhost:8080/",
          "height": 0
        },
        "outputId": "763489cc-bb6b-4a9c-fc1d-fdf31ad590fc"
      },
      "source": [
        "for feature in features :\n",
        "  X_test.loc[:,feature] = np.where(X_test.loc[:,feature]<lower_cap[feature],lower_cap[feature], X_test.loc[:,feature])\n",
        "  X_test.loc[:,feature] = np.where(X_test.loc[:,feature]>upper_cap[feature],upper_cap[feature], X_test.loc[:,feature])"
      ],
      "execution_count": 9,
      "outputs": [
        {
          "output_type": "stream",
          "text": [
            "/usr/local/lib/python3.6/dist-packages/pandas/core/indexing.py:966: SettingWithCopyWarning: \n",
            "A value is trying to be set on a copy of a slice from a DataFrame.\n",
            "Try using .loc[row_indexer,col_indexer] = value instead\n",
            "\n",
            "See the caveats in the documentation: https://pandas.pydata.org/pandas-docs/stable/user_guide/indexing.html#returning-a-view-versus-a-copy\n",
            "  self.obj[item] = s\n"
          ],
          "name": "stderr"
        }
      ]
    },
    {
      "cell_type": "markdown",
      "metadata": {
        "id": "N7a_bLnRZz7O",
        "colab_type": "text"
      },
      "source": [
        "# **Support Vector Machine**"
      ]
    },
    {
      "cell_type": "markdown",
      "metadata": {
        "id": "T8gTLxR-CR9G",
        "colab_type": "text"
      },
      "source": [
        "## **Create Preprocessor : ColumnTransformer of numerical and categorical features**"
      ]
    },
    {
      "cell_type": "code",
      "metadata": {
        "id": "gTT3lZG8Cxg9",
        "colab_type": "code",
        "colab": {}
      },
      "source": [
        "numerical_features = [x for x in X.columns if df[x].dtype != 'object']\n",
        "\n",
        "numeric_transformer = Pipeline(steps=[\n",
        "          ('imputer', SimpleImputer(strategy='median')),\n",
        "          ('scaler', MinMaxScaler())\n",
        "])\n",
        "\n",
        "categorical_features = [x for x in X.columns if df[x].dtype == 'object']\n",
        "\n",
        "categorical_transformer = Pipeline(steps=[\n",
        "          ('imputer', SimpleImputer(strategy='most_frequent')),\n",
        "          ('onehot', OneHotEncoder(handle_unknown='ignore'))\n",
        "])\n",
        "\n",
        "preprocessor = ColumnTransformer(\n",
        "    transformers=[\n",
        "          ('num', numeric_transformer, numerical_features),\n",
        "          ('cat', categorical_transformer, categorical_features)\n",
        "    ]\n",
        ")"
      ],
      "execution_count": 0,
      "outputs": []
    },
    {
      "cell_type": "markdown",
      "metadata": {
        "id": "vPVvzPIUSbfy",
        "colab_type": "text"
      },
      "source": [
        "## **Create model**"
      ]
    },
    {
      "cell_type": "code",
      "metadata": {
        "id": "QMg6-FaGSQj6",
        "colab_type": "code",
        "colab": {}
      },
      "source": [
        "from sklearn.svm import SVC\n",
        "model = SVC(kernel = 'linear')"
      ],
      "execution_count": 0,
      "outputs": []
    },
    {
      "cell_type": "markdown",
      "metadata": {
        "id": "gY_lpfneSrHi",
        "colab_type": "text"
      },
      "source": [
        "## **Create Pipeline**"
      ]
    },
    {
      "cell_type": "code",
      "metadata": {
        "id": "HJOsYV7mSqkv",
        "colab_type": "code",
        "colab": {}
      },
      "source": [
        "clf = Pipeline(steps=[\n",
        "      ('preprocessor', preprocessor),\n",
        "      ('model', model)\n",
        "])"
      ],
      "execution_count": 0,
      "outputs": []
    },
    {
      "cell_type": "markdown",
      "metadata": {
        "id": "ehj5f2TlfFVh",
        "colab_type": "text"
      },
      "source": [
        "# **Model Evaluation**"
      ]
    },
    {
      "cell_type": "markdown",
      "metadata": {
        "colab_type": "text",
        "id": "r8Sj1iG9Ko0q"
      },
      "source": [
        "## **Cross Validation**"
      ]
    },
    {
      "cell_type": "code",
      "metadata": {
        "colab_type": "code",
        "outputId": "80293a8a-ea35-4626-de93-061365a2345f",
        "id": "a19IDMNwKo0t",
        "colab": {
          "base_uri": "https://localhost:8080/",
          "height": 85
        }
      },
      "source": [
        "accuracy = cross_val_score(clf,X_train,y_train,cv=10)\n",
        "print('accuracy : ', accuracy)\n",
        "print('mean : ', accuracy.mean())\n",
        "print('std : ', accuracy.std())"
      ],
      "execution_count": 13,
      "outputs": [
        {
          "output_type": "stream",
          "text": [
            "accuracy :  [0.84408447 0.8501591  0.84842349 0.84582008 0.8443287  0.85069444\n",
            " 0.84143519 0.84375    0.84056713 0.84809028]\n",
            "mean :  0.8457352868307997\n",
            "std :  0.00332849389821565\n"
          ],
          "name": "stdout"
        }
      ]
    },
    {
      "cell_type": "markdown",
      "metadata": {
        "colab_type": "text",
        "id": "uuBDr_guKo0x"
      },
      "source": [
        "Note : low bias and low variance"
      ]
    },
    {
      "cell_type": "markdown",
      "metadata": {
        "colab_type": "text",
        "id": "DOpQv9dQKo0x"
      },
      "source": [
        "## **Training and Test evaluation**"
      ]
    },
    {
      "cell_type": "code",
      "metadata": {
        "colab_type": "code",
        "outputId": "bdddfffd-5256-497c-d701-60838557d4b2",
        "id": "WmaZx-SOKo0y",
        "colab": {
          "base_uri": "https://localhost:8080/",
          "height": 391
        }
      },
      "source": [
        "clf.fit(X_train,y_train)\n",
        "y_pred = clf.predict(X_test)\n",
        "\n",
        "print('\\n\\nTraining and Test Sets result')\n",
        "print('\\naccuracy score : ', accuracy_score(y_test,y_pred))\n",
        "print('\\nconfusion matrix : \\n', confusion_matrix(y_test, y_pred))\n",
        "print('\\nclassification report : \\n', classification_report(y_test,y_pred))\n",
        "\n",
        "print('Training set score : ',clf.score(X_train,y_train))\n",
        "print('Test set score : ',clf.score(X_test,y_test))"
      ],
      "execution_count": 14,
      "outputs": [
        {
          "output_type": "stream",
          "text": [
            "\n",
            "\n",
            "Training and Test Sets result\n",
            "\n",
            "accuracy score :  0.8464298113644254\n",
            "\n",
            "confusion matrix : \n",
            " [[6476  276]\n",
            " [1051  838]]\n",
            "\n",
            "classification report : \n",
            "               precision    recall  f1-score   support\n",
            "\n",
            "          No       0.86      0.96      0.91      6752\n",
            "         Yes       0.75      0.44      0.56      1889\n",
            "\n",
            "    accuracy                           0.85      8641\n",
            "   macro avg       0.81      0.70      0.73      8641\n",
            "weighted avg       0.84      0.85      0.83      8641\n",
            "\n",
            "Training set score :  0.8470084480962852\n",
            "Test set score :  0.8464298113644254\n"
          ],
          "name": "stdout"
        }
      ]
    },
    {
      "cell_type": "markdown",
      "metadata": {
        "colab_type": "text",
        "id": "QjGBwLn3Ko02"
      },
      "source": [
        "Note : the model is not overfitting"
      ]
    },
    {
      "cell_type": "markdown",
      "metadata": {
        "id": "DpdZD7kll7O9",
        "colab_type": "text"
      },
      "source": [
        "# **Improve the model**\n",
        "by kernel SVM in the next part"
      ]
    }
  ]
}