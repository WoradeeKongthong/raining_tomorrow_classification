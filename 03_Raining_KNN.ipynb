{
  "nbformat": 4,
  "nbformat_minor": 0,
  "metadata": {
    "colab": {
      "name": "03_Raining_KNN.ipynb",
      "provenance": [],
      "toc_visible": true,
      "authorship_tag": "ABX9TyP8TsGYO6qJMjU6l0iM2VzN",
      "include_colab_link": true
    },
    "kernelspec": {
      "name": "python3",
      "display_name": "Python 3"
    }
  },
  "cells": [
    {
      "cell_type": "markdown",
      "metadata": {
        "id": "view-in-github",
        "colab_type": "text"
      },
      "source": [
        "<a href=\"https://colab.research.google.com/github/WoradeeKongthong/raining_tomorrow_classification/blob/master/03_Raining_KNN.ipynb\" target=\"_parent\"><img src=\"https://colab.research.google.com/assets/colab-badge.svg\" alt=\"Open In Colab\"/></a>"
      ]
    },
    {
      "cell_type": "markdown",
      "metadata": {
        "id": "NzAQNizAP0nG",
        "colab_type": "text"
      },
      "source": [
        "Based on Feature Engineering in part 02  \n",
        "Outliers : I'll cap the outliers in X_train. And cap the outliers in X_test using the boundaries of X_train.  \n",
        "Missing values : I'll impute the missing values in categorical features with 'most frequent' value,  \n",
        "and impute the missing values in numerical features with median."
      ]
    },
    {
      "cell_type": "code",
      "metadata": {
        "id": "Zyn_b_XCxRkV",
        "colab_type": "code",
        "colab": {}
      },
      "source": [
        "# libraries\n",
        "import pandas as pd\n",
        "import numpy as np\n",
        "\n",
        "from sklearn.impute import SimpleImputer\n",
        "from sklearn.preprocessing import OneHotEncoder, StandardScaler, MinMaxScaler\n",
        "from sklearn.compose import ColumnTransformer, make_column_transformer\n",
        "from sklearn.pipeline import Pipeline\n",
        "\n",
        "from sklearn.model_selection import cross_val_score\n",
        "from sklearn.model_selection import train_test_split\n",
        "from sklearn.metrics import confusion_matrix, accuracy_score, classification_report"
      ],
      "execution_count": 0,
      "outputs": []
    },
    {
      "cell_type": "markdown",
      "metadata": {
        "id": "HbQH-UK5xWlL",
        "colab_type": "text"
      },
      "source": [
        "# **Data Set**"
      ]
    },
    {
      "cell_type": "code",
      "metadata": {
        "id": "UF6DT6FQxUxt",
        "colab_type": "code",
        "colab": {}
      },
      "source": [
        "df = pd.read_csv('https://raw.githubusercontent.com/WoradeeKongthong/raining_tomorrow_classification/master/weatherAUS.csv')"
      ],
      "execution_count": 0,
      "outputs": []
    },
    {
      "cell_type": "code",
      "metadata": {
        "id": "MPNHKHJ7xeWT",
        "colab_type": "code",
        "outputId": "0e35ded1-7f93-40ef-97f9-dc9dbe232f3b",
        "colab": {
          "base_uri": "https://localhost:8080/",
          "height": 544
        }
      },
      "source": [
        "df.info()"
      ],
      "execution_count": 3,
      "outputs": [
        {
          "output_type": "stream",
          "text": [
            "<class 'pandas.core.frame.DataFrame'>\n",
            "RangeIndex: 142193 entries, 0 to 142192\n",
            "Data columns (total 24 columns):\n",
            " #   Column         Non-Null Count   Dtype  \n",
            "---  ------         --------------   -----  \n",
            " 0   Date           142193 non-null  object \n",
            " 1   Location       142193 non-null  object \n",
            " 2   MinTemp        141556 non-null  float64\n",
            " 3   MaxTemp        141871 non-null  float64\n",
            " 4   Rainfall       140787 non-null  float64\n",
            " 5   Evaporation    81350 non-null   float64\n",
            " 6   Sunshine       74377 non-null   float64\n",
            " 7   WindGustDir    132863 non-null  object \n",
            " 8   WindGustSpeed  132923 non-null  float64\n",
            " 9   WindDir9am     132180 non-null  object \n",
            " 10  WindDir3pm     138415 non-null  object \n",
            " 11  WindSpeed9am   140845 non-null  float64\n",
            " 12  WindSpeed3pm   139563 non-null  float64\n",
            " 13  Humidity9am    140419 non-null  float64\n",
            " 14  Humidity3pm    138583 non-null  float64\n",
            " 15  Pressure9am    128179 non-null  float64\n",
            " 16  Pressure3pm    128212 non-null  float64\n",
            " 17  Cloud9am       88536 non-null   float64\n",
            " 18  Cloud3pm       85099 non-null   float64\n",
            " 19  Temp9am        141289 non-null  float64\n",
            " 20  Temp3pm        139467 non-null  float64\n",
            " 21  RainToday      140787 non-null  object \n",
            " 22  RISK_MM        142193 non-null  float64\n",
            " 23  RainTomorrow   142193 non-null  object \n",
            "dtypes: float64(17), object(7)\n",
            "memory usage: 26.0+ MB\n"
          ],
          "name": "stdout"
        }
      ]
    },
    {
      "cell_type": "code",
      "metadata": {
        "id": "zj7iJFs5yR4t",
        "colab_type": "code",
        "colab": {}
      },
      "source": [
        "# drop RISK_MM column (Recommendation from data description in Kaggle)\n",
        "df.drop(['RISK_MM'], axis = 1, inplace = True)\n",
        "\n",
        "# Extract Year, Month, Day from Date column\n",
        "df['Date'] = pd.to_datetime(df['Date'])\n",
        "df['Year'] = df['Date'].dt.year\n",
        "df['Month'] = df['Date'].dt.month\n",
        "df['Day'] = df['Date'].dt.day\n",
        "\n",
        "# drop Date column\n",
        "df.drop(['Date'], axis = 1, inplace = True)\n",
        "\n",
        "# select year 2016-2017 to train the model\n",
        "df = df[df['Year'] > 2015]"
      ],
      "execution_count": 0,
      "outputs": []
    },
    {
      "cell_type": "code",
      "metadata": {
        "id": "wib900L2yWUs",
        "colab_type": "code",
        "outputId": "9b56a8a1-cc6d-4695-f667-4a8b2e81f41b",
        "colab": {
          "base_uri": "https://localhost:8080/",
          "height": 561
        }
      },
      "source": [
        "df.info()"
      ],
      "execution_count": 5,
      "outputs": [
        {
          "output_type": "stream",
          "text": [
            "<class 'pandas.core.frame.DataFrame'>\n",
            "Int64Index: 25974 entries, 2474 to 142192\n",
            "Data columns (total 25 columns):\n",
            " #   Column         Non-Null Count  Dtype  \n",
            "---  ------         --------------  -----  \n",
            " 0   Location       25974 non-null  object \n",
            " 1   MinTemp        25814 non-null  float64\n",
            " 2   MaxTemp        25881 non-null  float64\n",
            " 3   Rainfall       25710 non-null  float64\n",
            " 4   Evaporation    10704 non-null  float64\n",
            " 5   Sunshine       8019 non-null   float64\n",
            " 6   WindGustDir    24514 non-null  object \n",
            " 7   WindGustSpeed  24514 non-null  float64\n",
            " 8   WindDir9am     24398 non-null  object \n",
            " 9   WindDir3pm     24746 non-null  object \n",
            " 10  WindSpeed9am   25841 non-null  float64\n",
            " 11  WindSpeed3pm   24854 non-null  float64\n",
            " 12  Humidity9am    25686 non-null  float64\n",
            " 13  Humidity3pm    24218 non-null  float64\n",
            " 14  Pressure9am    23294 non-null  float64\n",
            " 15  Pressure3pm    23289 non-null  float64\n",
            " 16  Cloud9am       14674 non-null  float64\n",
            " 17  Cloud3pm       12665 non-null  float64\n",
            " 18  Temp9am        25884 non-null  float64\n",
            " 19  Temp3pm        24389 non-null  float64\n",
            " 20  RainToday      25710 non-null  object \n",
            " 21  RainTomorrow   25974 non-null  object \n",
            " 22  Year           25974 non-null  int64  \n",
            " 23  Month          25974 non-null  int64  \n",
            " 24  Day            25974 non-null  int64  \n",
            "dtypes: float64(16), int64(3), object(6)\n",
            "memory usage: 5.2+ MB\n"
          ],
          "name": "stdout"
        }
      ]
    },
    {
      "cell_type": "code",
      "metadata": {
        "id": "DyVUietnBKdC",
        "colab_type": "code",
        "colab": {}
      },
      "source": [
        "X = df.drop(['RainTomorrow'], axis=1)\n",
        "y = df['RainTomorrow']"
      ],
      "execution_count": 0,
      "outputs": []
    },
    {
      "cell_type": "code",
      "metadata": {
        "id": "6i2T_KdUJl_Q",
        "colab_type": "code",
        "colab": {}
      },
      "source": [
        "X_train, X_test, y_train, y_test = train_test_split(X,y,test_size=0.2)"
      ],
      "execution_count": 0,
      "outputs": []
    },
    {
      "cell_type": "code",
      "metadata": {
        "id": "siD4HoCqJ10U",
        "colab_type": "code",
        "outputId": "23a64bb1-b057-4032-ee69-c1b01610fa1d",
        "colab": {
          "base_uri": "https://localhost:8080/",
          "height": 139
        }
      },
      "source": [
        "# create temp_df to combine X_train and y_train and cap the outliers\n",
        "temp_df = X_train\n",
        "temp_df['RainTomorrow'] = y_train"
      ],
      "execution_count": 8,
      "outputs": [
        {
          "output_type": "stream",
          "text": [
            "/usr/local/lib/python3.6/dist-packages/ipykernel_launcher.py:3: SettingWithCopyWarning: \n",
            "A value is trying to be set on a copy of a slice from a DataFrame.\n",
            "Try using .loc[row_indexer,col_indexer] = value instead\n",
            "\n",
            "See the caveats in the documentation: https://pandas.pydata.org/pandas-docs/stable/user_guide/indexing.html#returning-a-view-versus-a-copy\n",
            "  This is separate from the ipykernel package so we can avoid doing imports until\n"
          ],
          "name": "stderr"
        }
      ]
    },
    {
      "cell_type": "code",
      "metadata": {
        "id": "1bmia_JVYCQ2",
        "colab_type": "code",
        "outputId": "b2438033-9adb-4143-eebf-f99274264351",
        "colab": {
          "base_uri": "https://localhost:8080/",
          "height": 439
        }
      },
      "source": [
        "temp_df"
      ],
      "execution_count": 9,
      "outputs": [
        {
          "output_type": "execute_result",
          "data": {
            "text/html": [
              "<div>\n",
              "<style scoped>\n",
              "    .dataframe tbody tr th:only-of-type {\n",
              "        vertical-align: middle;\n",
              "    }\n",
              "\n",
              "    .dataframe tbody tr th {\n",
              "        vertical-align: top;\n",
              "    }\n",
              "\n",
              "    .dataframe thead th {\n",
              "        text-align: right;\n",
              "    }\n",
              "</style>\n",
              "<table border=\"1\" class=\"dataframe\">\n",
              "  <thead>\n",
              "    <tr style=\"text-align: right;\">\n",
              "      <th></th>\n",
              "      <th>Location</th>\n",
              "      <th>MinTemp</th>\n",
              "      <th>MaxTemp</th>\n",
              "      <th>Rainfall</th>\n",
              "      <th>Evaporation</th>\n",
              "      <th>Sunshine</th>\n",
              "      <th>WindGustDir</th>\n",
              "      <th>WindGustSpeed</th>\n",
              "      <th>WindDir9am</th>\n",
              "      <th>WindDir3pm</th>\n",
              "      <th>WindSpeed9am</th>\n",
              "      <th>WindSpeed3pm</th>\n",
              "      <th>Humidity9am</th>\n",
              "      <th>Humidity3pm</th>\n",
              "      <th>Pressure9am</th>\n",
              "      <th>Pressure3pm</th>\n",
              "      <th>Cloud9am</th>\n",
              "      <th>Cloud3pm</th>\n",
              "      <th>Temp9am</th>\n",
              "      <th>Temp3pm</th>\n",
              "      <th>RainToday</th>\n",
              "      <th>Year</th>\n",
              "      <th>Month</th>\n",
              "      <th>Day</th>\n",
              "      <th>RainTomorrow</th>\n",
              "    </tr>\n",
              "  </thead>\n",
              "  <tbody>\n",
              "    <tr>\n",
              "      <th>44301</th>\n",
              "      <td>Wollongong</td>\n",
              "      <td>12.0</td>\n",
              "      <td>18.9</td>\n",
              "      <td>0.0</td>\n",
              "      <td>NaN</td>\n",
              "      <td>NaN</td>\n",
              "      <td>SW</td>\n",
              "      <td>35.0</td>\n",
              "      <td>SW</td>\n",
              "      <td>SSE</td>\n",
              "      <td>19.0</td>\n",
              "      <td>17.0</td>\n",
              "      <td>49.0</td>\n",
              "      <td>53.0</td>\n",
              "      <td>1022.9</td>\n",
              "      <td>1020.5</td>\n",
              "      <td>NaN</td>\n",
              "      <td>NaN</td>\n",
              "      <td>15.6</td>\n",
              "      <td>18.4</td>\n",
              "      <td>No</td>\n",
              "      <td>2017</td>\n",
              "      <td>4</td>\n",
              "      <td>28</td>\n",
              "      <td>No</td>\n",
              "    </tr>\n",
              "    <tr>\n",
              "      <th>138614</th>\n",
              "      <td>Darwin</td>\n",
              "      <td>23.1</td>\n",
              "      <td>33.7</td>\n",
              "      <td>9.8</td>\n",
              "      <td>6.6</td>\n",
              "      <td>6.4</td>\n",
              "      <td>NW</td>\n",
              "      <td>35.0</td>\n",
              "      <td>ESE</td>\n",
              "      <td>WNW</td>\n",
              "      <td>15.0</td>\n",
              "      <td>26.0</td>\n",
              "      <td>74.0</td>\n",
              "      <td>75.0</td>\n",
              "      <td>1009.4</td>\n",
              "      <td>1006.0</td>\n",
              "      <td>5.0</td>\n",
              "      <td>7.0</td>\n",
              "      <td>28.9</td>\n",
              "      <td>30.7</td>\n",
              "      <td>Yes</td>\n",
              "      <td>2016</td>\n",
              "      <td>2</td>\n",
              "      <td>12</td>\n",
              "      <td>No</td>\n",
              "    </tr>\n",
              "    <tr>\n",
              "      <th>65645</th>\n",
              "      <td>MelbourneAirport</td>\n",
              "      <td>10.2</td>\n",
              "      <td>30.7</td>\n",
              "      <td>0.0</td>\n",
              "      <td>6.6</td>\n",
              "      <td>11.4</td>\n",
              "      <td>SSE</td>\n",
              "      <td>31.0</td>\n",
              "      <td>N</td>\n",
              "      <td>SSE</td>\n",
              "      <td>13.0</td>\n",
              "      <td>17.0</td>\n",
              "      <td>71.0</td>\n",
              "      <td>30.0</td>\n",
              "      <td>1025.1</td>\n",
              "      <td>1022.4</td>\n",
              "      <td>0.0</td>\n",
              "      <td>0.0</td>\n",
              "      <td>16.2</td>\n",
              "      <td>29.4</td>\n",
              "      <td>No</td>\n",
              "      <td>2017</td>\n",
              "      <td>3</td>\n",
              "      <td>18</td>\n",
              "      <td>No</td>\n",
              "    </tr>\n",
              "    <tr>\n",
              "      <th>102441</th>\n",
              "      <td>Nuriootpa</td>\n",
              "      <td>11.9</td>\n",
              "      <td>28.9</td>\n",
              "      <td>0.0</td>\n",
              "      <td>8.2</td>\n",
              "      <td>11.9</td>\n",
              "      <td>SE</td>\n",
              "      <td>50.0</td>\n",
              "      <td>S</td>\n",
              "      <td>SSE</td>\n",
              "      <td>19.0</td>\n",
              "      <td>9.0</td>\n",
              "      <td>64.0</td>\n",
              "      <td>33.0</td>\n",
              "      <td>1013.5</td>\n",
              "      <td>1011.1</td>\n",
              "      <td>1.0</td>\n",
              "      <td>NaN</td>\n",
              "      <td>19.4</td>\n",
              "      <td>26.3</td>\n",
              "      <td>No</td>\n",
              "      <td>2016</td>\n",
              "      <td>1</td>\n",
              "      <td>3</td>\n",
              "      <td>No</td>\n",
              "    </tr>\n",
              "    <tr>\n",
              "      <th>5706</th>\n",
              "      <td>BadgerysCreek</td>\n",
              "      <td>4.7</td>\n",
              "      <td>25.6</td>\n",
              "      <td>1.4</td>\n",
              "      <td>NaN</td>\n",
              "      <td>NaN</td>\n",
              "      <td>WNW</td>\n",
              "      <td>50.0</td>\n",
              "      <td>NE</td>\n",
              "      <td>WNW</td>\n",
              "      <td>7.0</td>\n",
              "      <td>28.0</td>\n",
              "      <td>66.0</td>\n",
              "      <td>31.0</td>\n",
              "      <td>1014.5</td>\n",
              "      <td>1011.1</td>\n",
              "      <td>NaN</td>\n",
              "      <td>NaN</td>\n",
              "      <td>15.2</td>\n",
              "      <td>24.2</td>\n",
              "      <td>Yes</td>\n",
              "      <td>2016</td>\n",
              "      <td>10</td>\n",
              "      <td>18</td>\n",
              "      <td>No</td>\n",
              "    </tr>\n",
              "    <tr>\n",
              "      <th>...</th>\n",
              "      <td>...</td>\n",
              "      <td>...</td>\n",
              "      <td>...</td>\n",
              "      <td>...</td>\n",
              "      <td>...</td>\n",
              "      <td>...</td>\n",
              "      <td>...</td>\n",
              "      <td>...</td>\n",
              "      <td>...</td>\n",
              "      <td>...</td>\n",
              "      <td>...</td>\n",
              "      <td>...</td>\n",
              "      <td>...</td>\n",
              "      <td>...</td>\n",
              "      <td>...</td>\n",
              "      <td>...</td>\n",
              "      <td>...</td>\n",
              "      <td>...</td>\n",
              "      <td>...</td>\n",
              "      <td>...</td>\n",
              "      <td>...</td>\n",
              "      <td>...</td>\n",
              "      <td>...</td>\n",
              "      <td>...</td>\n",
              "      <td>...</td>\n",
              "    </tr>\n",
              "    <tr>\n",
              "      <th>44182</th>\n",
              "      <td>Wollongong</td>\n",
              "      <td>20.2</td>\n",
              "      <td>31.7</td>\n",
              "      <td>0.0</td>\n",
              "      <td>NaN</td>\n",
              "      <td>NaN</td>\n",
              "      <td>SSW</td>\n",
              "      <td>48.0</td>\n",
              "      <td>NaN</td>\n",
              "      <td>NW</td>\n",
              "      <td>0.0</td>\n",
              "      <td>22.0</td>\n",
              "      <td>65.0</td>\n",
              "      <td>39.0</td>\n",
              "      <td>1003.4</td>\n",
              "      <td>1000.1</td>\n",
              "      <td>7.0</td>\n",
              "      <td>8.0</td>\n",
              "      <td>23.8</td>\n",
              "      <td>30.7</td>\n",
              "      <td>No</td>\n",
              "      <td>2016</td>\n",
              "      <td>12</td>\n",
              "      <td>30</td>\n",
              "      <td>No</td>\n",
              "    </tr>\n",
              "    <tr>\n",
              "      <th>126363</th>\n",
              "      <td>Walpole</td>\n",
              "      <td>5.8</td>\n",
              "      <td>14.3</td>\n",
              "      <td>12.4</td>\n",
              "      <td>NaN</td>\n",
              "      <td>NaN</td>\n",
              "      <td>NaN</td>\n",
              "      <td>NaN</td>\n",
              "      <td>W</td>\n",
              "      <td>WNW</td>\n",
              "      <td>22.0</td>\n",
              "      <td>15.0</td>\n",
              "      <td>78.0</td>\n",
              "      <td>87.0</td>\n",
              "      <td>1016.0</td>\n",
              "      <td>1016.2</td>\n",
              "      <td>NaN</td>\n",
              "      <td>NaN</td>\n",
              "      <td>10.8</td>\n",
              "      <td>11.9</td>\n",
              "      <td>Yes</td>\n",
              "      <td>2016</td>\n",
              "      <td>8</td>\n",
              "      <td>9</td>\n",
              "      <td>Yes</td>\n",
              "    </tr>\n",
              "    <tr>\n",
              "      <th>114415</th>\n",
              "      <td>PearceRAAF</td>\n",
              "      <td>9.9</td>\n",
              "      <td>18.0</td>\n",
              "      <td>2.4</td>\n",
              "      <td>NaN</td>\n",
              "      <td>8.6</td>\n",
              "      <td>SW</td>\n",
              "      <td>41.0</td>\n",
              "      <td>SSE</td>\n",
              "      <td>W</td>\n",
              "      <td>11.0</td>\n",
              "      <td>11.0</td>\n",
              "      <td>63.0</td>\n",
              "      <td>48.0</td>\n",
              "      <td>1024.2</td>\n",
              "      <td>1023.3</td>\n",
              "      <td>5.0</td>\n",
              "      <td>7.0</td>\n",
              "      <td>14.4</td>\n",
              "      <td>17.5</td>\n",
              "      <td>Yes</td>\n",
              "      <td>2016</td>\n",
              "      <td>9</td>\n",
              "      <td>8</td>\n",
              "      <td>No</td>\n",
              "    </tr>\n",
              "    <tr>\n",
              "      <th>75408</th>\n",
              "      <td>Portland</td>\n",
              "      <td>9.0</td>\n",
              "      <td>13.7</td>\n",
              "      <td>2.0</td>\n",
              "      <td>0.4</td>\n",
              "      <td>NaN</td>\n",
              "      <td>W</td>\n",
              "      <td>37.0</td>\n",
              "      <td>NNW</td>\n",
              "      <td>WNW</td>\n",
              "      <td>17.0</td>\n",
              "      <td>22.0</td>\n",
              "      <td>94.0</td>\n",
              "      <td>74.0</td>\n",
              "      <td>1031.3</td>\n",
              "      <td>1030.3</td>\n",
              "      <td>4.0</td>\n",
              "      <td>8.0</td>\n",
              "      <td>9.4</td>\n",
              "      <td>12.7</td>\n",
              "      <td>Yes</td>\n",
              "      <td>2016</td>\n",
              "      <td>7</td>\n",
              "      <td>15</td>\n",
              "      <td>No</td>\n",
              "    </tr>\n",
              "    <tr>\n",
              "      <th>114397</th>\n",
              "      <td>PearceRAAF</td>\n",
              "      <td>7.9</td>\n",
              "      <td>18.3</td>\n",
              "      <td>1.4</td>\n",
              "      <td>NaN</td>\n",
              "      <td>3.8</td>\n",
              "      <td>WSW</td>\n",
              "      <td>44.0</td>\n",
              "      <td>NNE</td>\n",
              "      <td>WNW</td>\n",
              "      <td>7.0</td>\n",
              "      <td>22.0</td>\n",
              "      <td>84.0</td>\n",
              "      <td>59.0</td>\n",
              "      <td>1019.1</td>\n",
              "      <td>1015.1</td>\n",
              "      <td>8.0</td>\n",
              "      <td>8.0</td>\n",
              "      <td>12.8</td>\n",
              "      <td>17.4</td>\n",
              "      <td>Yes</td>\n",
              "      <td>2016</td>\n",
              "      <td>8</td>\n",
              "      <td>21</td>\n",
              "      <td>Yes</td>\n",
              "    </tr>\n",
              "  </tbody>\n",
              "</table>\n",
              "<p>20779 rows × 25 columns</p>\n",
              "</div>"
            ],
            "text/plain": [
              "                Location  MinTemp  MaxTemp  ...  Month  Day  RainTomorrow\n",
              "44301         Wollongong     12.0     18.9  ...      4   28            No\n",
              "138614            Darwin     23.1     33.7  ...      2   12            No\n",
              "65645   MelbourneAirport     10.2     30.7  ...      3   18            No\n",
              "102441         Nuriootpa     11.9     28.9  ...      1    3            No\n",
              "5706       BadgerysCreek      4.7     25.6  ...     10   18            No\n",
              "...                  ...      ...      ...  ...    ...  ...           ...\n",
              "44182         Wollongong     20.2     31.7  ...     12   30            No\n",
              "126363           Walpole      5.8     14.3  ...      8    9           Yes\n",
              "114415        PearceRAAF      9.9     18.0  ...      9    8            No\n",
              "75408           Portland      9.0     13.7  ...      7   15            No\n",
              "114397        PearceRAAF      7.9     18.3  ...      8   21           Yes\n",
              "\n",
              "[20779 rows x 25 columns]"
            ]
          },
          "metadata": {
            "tags": []
          },
          "execution_count": 9
        }
      ]
    },
    {
      "cell_type": "code",
      "metadata": {
        "id": "rHPWn8TdJ1qQ",
        "colab_type": "code",
        "colab": {
          "base_uri": "https://localhost:8080/",
          "height": 241
        },
        "outputId": "aeb51244-ebff-4317-ba0b-93c9a18363b9"
      },
      "source": [
        "# cap the outliers in Training set\n",
        "\n",
        "Q1 = temp_df.quantile(0.25)\n",
        "Q3 = temp_df.quantile(0.75)\n",
        "IQR = Q3 - Q1\n",
        "\n",
        "lower_cap = Q1 - 1.5*IQR\n",
        "upper_cap = Q3 + 1.5*IQR\n",
        "\n",
        "features = lower_cap.index.values\n",
        "\n",
        "for feature in features :\n",
        "  temp_df[feature] = np.where(temp_df[feature]<lower_cap[feature],lower_cap[feature], temp_df[feature])\n",
        "  temp_df[feature] = np.where(temp_df[feature]>upper_cap[feature],upper_cap[feature], temp_df[feature])"
      ],
      "execution_count": 10,
      "outputs": [
        {
          "output_type": "stream",
          "text": [
            "/usr/local/lib/python3.6/dist-packages/ipykernel_launcher.py:13: SettingWithCopyWarning: \n",
            "A value is trying to be set on a copy of a slice from a DataFrame.\n",
            "Try using .loc[row_indexer,col_indexer] = value instead\n",
            "\n",
            "See the caveats in the documentation: https://pandas.pydata.org/pandas-docs/stable/user_guide/indexing.html#returning-a-view-versus-a-copy\n",
            "  del sys.path[0]\n",
            "/usr/local/lib/python3.6/dist-packages/ipykernel_launcher.py:14: SettingWithCopyWarning: \n",
            "A value is trying to be set on a copy of a slice from a DataFrame.\n",
            "Try using .loc[row_indexer,col_indexer] = value instead\n",
            "\n",
            "See the caveats in the documentation: https://pandas.pydata.org/pandas-docs/stable/user_guide/indexing.html#returning-a-view-versus-a-copy\n",
            "  \n"
          ],
          "name": "stderr"
        }
      ]
    },
    {
      "cell_type": "code",
      "metadata": {
        "id": "fLAsTLKALc8o",
        "colab_type": "code",
        "colab": {}
      },
      "source": [
        "# get y_train and X_train from temp_df\n",
        "X_train = temp_df.drop(['RainTomorrow'], axis=1)\n",
        "y_train = temp_df['RainTomorrow']"
      ],
      "execution_count": 0,
      "outputs": []
    },
    {
      "cell_type": "code",
      "metadata": {
        "id": "gz9ymAzGYeit",
        "colab_type": "code",
        "colab": {
          "base_uri": "https://localhost:8080/",
          "height": 241
        },
        "outputId": "b98f4ec2-58eb-4f85-84f5-b6babb2843e8"
      },
      "source": [
        "# cap outliers on the test set\n",
        "for feature in features :\n",
        "  X_test[feature] = np.where(X_test[feature]<lower_cap[feature],lower_cap[feature], X_test[feature])\n",
        "  X_test[feature] = np.where(X_test[feature]>upper_cap[feature],upper_cap[feature], X_test[feature])"
      ],
      "execution_count": 12,
      "outputs": [
        {
          "output_type": "stream",
          "text": [
            "/usr/local/lib/python3.6/dist-packages/ipykernel_launcher.py:3: SettingWithCopyWarning: \n",
            "A value is trying to be set on a copy of a slice from a DataFrame.\n",
            "Try using .loc[row_indexer,col_indexer] = value instead\n",
            "\n",
            "See the caveats in the documentation: https://pandas.pydata.org/pandas-docs/stable/user_guide/indexing.html#returning-a-view-versus-a-copy\n",
            "  This is separate from the ipykernel package so we can avoid doing imports until\n",
            "/usr/local/lib/python3.6/dist-packages/ipykernel_launcher.py:4: SettingWithCopyWarning: \n",
            "A value is trying to be set on a copy of a slice from a DataFrame.\n",
            "Try using .loc[row_indexer,col_indexer] = value instead\n",
            "\n",
            "See the caveats in the documentation: https://pandas.pydata.org/pandas-docs/stable/user_guide/indexing.html#returning-a-view-versus-a-copy\n",
            "  after removing the cwd from sys.path.\n"
          ],
          "name": "stderr"
        }
      ]
    },
    {
      "cell_type": "markdown",
      "metadata": {
        "id": "N7a_bLnRZz7O",
        "colab_type": "text"
      },
      "source": [
        "# **Create Model Pipeline**"
      ]
    },
    {
      "cell_type": "markdown",
      "metadata": {
        "id": "T8gTLxR-CR9G",
        "colab_type": "text"
      },
      "source": [
        "**Create Preprocessor : ColumnTransformer of numerical and categorical features**"
      ]
    },
    {
      "cell_type": "code",
      "metadata": {
        "id": "gTT3lZG8Cxg9",
        "colab_type": "code",
        "colab": {}
      },
      "source": [
        "numerical_features = [x for x in X.columns if df[x].dtype != 'object']\n",
        "\n",
        "numeric_transformer = Pipeline(steps=[\n",
        "          ('imputer', SimpleImputer(strategy='median')),\n",
        "          ('scaler', MinMaxScaler())\n",
        "])\n",
        "\n",
        "categorical_features = [x for x in X.columns if df[x].dtype == 'object']\n",
        "\n",
        "categorical_transformer = Pipeline(steps=[\n",
        "          ('imputer', SimpleImputer(strategy='most_frequent')),\n",
        "          ('onehot', OneHotEncoder(handle_unknown='ignore'))\n",
        "])\n",
        "\n",
        "preprocessor = ColumnTransformer(\n",
        "    transformers=[\n",
        "          ('num', numeric_transformer, numerical_features),\n",
        "          ('cat', categorical_transformer, categorical_features)\n",
        "    ]\n",
        ")"
      ],
      "execution_count": 0,
      "outputs": []
    },
    {
      "cell_type": "markdown",
      "metadata": {
        "id": "vPVvzPIUSbfy",
        "colab_type": "text"
      },
      "source": [
        "**Create model**"
      ]
    },
    {
      "cell_type": "code",
      "metadata": {
        "id": "QMg6-FaGSQj6",
        "colab_type": "code",
        "colab": {}
      },
      "source": [
        "from sklearn.neighbors import KNeighborsClassifier\n",
        "model = KNeighborsClassifier(n_neighbors = 5, metric = 'minkowski', p = 2, n_jobs = -1)"
      ],
      "execution_count": 0,
      "outputs": []
    },
    {
      "cell_type": "markdown",
      "metadata": {
        "id": "gY_lpfneSrHi",
        "colab_type": "text"
      },
      "source": [
        "**Create Pipeline**"
      ]
    },
    {
      "cell_type": "code",
      "metadata": {
        "id": "HJOsYV7mSqkv",
        "colab_type": "code",
        "colab": {}
      },
      "source": [
        "clf = Pipeline(steps=[\n",
        "      ('preprocessor', preprocessor),\n",
        "      ('model', model)\n",
        "])"
      ],
      "execution_count": 0,
      "outputs": []
    },
    {
      "cell_type": "markdown",
      "metadata": {
        "colab_type": "text",
        "id": "r8Sj1iG9Ko0q"
      },
      "source": [
        "# **Cross Validation on Training set**"
      ]
    },
    {
      "cell_type": "code",
      "metadata": {
        "colab_type": "code",
        "outputId": "1b257405-2e04-4ee6-8424-70591b5f7adf",
        "id": "a19IDMNwKo0t",
        "colab": {
          "base_uri": "https://localhost:8080/",
          "height": 85
        }
      },
      "source": [
        "accuracy = cross_val_score(clf,X_train,y_train,cv=10)\n",
        "print('accuracy : ', accuracy)\n",
        "print('mean : ', accuracy.mean())\n",
        "print('std : ', accuracy.std())"
      ],
      "execution_count": 16,
      "outputs": [
        {
          "output_type": "stream",
          "text": [
            "accuracy :  [0.78200192 0.80028874 0.78873917 0.79162656 0.79643888 0.7786333\n",
            " 0.79018287 0.79307026 0.79836381 0.78189697]\n",
            "mean :  0.7901242491321838\n",
            "std :  0.006997441411324103\n"
          ],
          "name": "stdout"
        }
      ]
    },
    {
      "cell_type": "markdown",
      "metadata": {
        "colab_type": "text",
        "id": "uuBDr_guKo0x"
      },
      "source": [
        "Note : low bias and very low variance"
      ]
    },
    {
      "cell_type": "markdown",
      "metadata": {
        "colab_type": "text",
        "id": "DOpQv9dQKo0x"
      },
      "source": [
        "# **Training and Test sets**"
      ]
    },
    {
      "cell_type": "code",
      "metadata": {
        "colab_type": "code",
        "outputId": "9c50df06-db13-4c6d-f029-1b8324328072",
        "id": "WmaZx-SOKo0y",
        "colab": {
          "base_uri": "https://localhost:8080/",
          "height": 391
        }
      },
      "source": [
        "# Make sure your X_test is capped before running this cell\n",
        "\n",
        "clf.fit(X_train,y_train)\n",
        "y_pred = clf.predict(X_test)\n",
        "\n",
        "print('\\n\\nTraining and Test Sets result')\n",
        "print('\\naccuracy score : ', accuracy_score(y_test,y_pred))\n",
        "print('\\nconfusion matrix : \\n', confusion_matrix(y_test, y_pred))\n",
        "print('\\nclassification report : \\n', classification_report(y_test,y_pred))\n",
        "\n",
        "print('Training set score : ',clf.score(X_train,y_train))\n",
        "print('Test set score : ',clf.score(X_test,y_test))"
      ],
      "execution_count": 17,
      "outputs": [
        {
          "output_type": "stream",
          "text": [
            "\n",
            "\n",
            "Training and Test Sets result\n",
            "\n",
            "accuracy score :  0.7763233878729547\n",
            "\n",
            "confusion matrix : \n",
            " [[3642  311]\n",
            " [ 851  391]]\n",
            "\n",
            "classification report : \n",
            "               precision    recall  f1-score   support\n",
            "\n",
            "          No       0.81      0.92      0.86      3953\n",
            "         Yes       0.56      0.31      0.40      1242\n",
            "\n",
            "    accuracy                           0.78      5195\n",
            "   macro avg       0.68      0.62      0.63      5195\n",
            "weighted avg       0.75      0.78      0.75      5195\n",
            "\n",
            "Training set score :  0.8470089994706194\n",
            "Test set score :  0.7763233878729547\n"
          ],
          "name": "stdout"
        }
      ]
    },
    {
      "cell_type": "markdown",
      "metadata": {
        "colab_type": "text",
        "id": "QjGBwLn3Ko02"
      },
      "source": [
        "Note : there is overfitting in the model"
      ]
    },
    {
      "cell_type": "markdown",
      "metadata": {
        "id": "SuPIw95OZj5x",
        "colab_type": "text"
      },
      "source": [
        "Try adjust number of neighbors "
      ]
    },
    {
      "cell_type": "code",
      "metadata": {
        "id": "XHsLttG4Sat6",
        "colab_type": "code",
        "colab": {
          "base_uri": "https://localhost:8080/",
          "height": 527
        },
        "outputId": "ee18628b-5d31-4d15-977a-7dce7d0ab0c1"
      },
      "source": [
        "numerical_features = [x for x in X.columns if df[x].dtype != 'object']\n",
        "\n",
        "numeric_transformer = Pipeline(steps=[\n",
        "          ('imputer', SimpleImputer(strategy='median')),\n",
        "          ('scaler', MinMaxScaler())\n",
        "])\n",
        "\n",
        "categorical_features = [x for x in X.columns if df[x].dtype == 'object']\n",
        "\n",
        "categorical_transformer = Pipeline(steps=[\n",
        "          ('imputer', SimpleImputer(strategy='most_frequent')),\n",
        "          ('onehot', OneHotEncoder(handle_unknown='ignore'))\n",
        "])\n",
        "\n",
        "preprocessor = ColumnTransformer(\n",
        "    transformers=[\n",
        "          ('num', numeric_transformer, numerical_features),\n",
        "          ('cat', categorical_transformer, categorical_features)\n",
        "    ]\n",
        ")\n",
        "\n",
        "for k in range(5,15):\n",
        "  model = KNeighborsClassifier(n_neighbors = k, metric = 'minkowski', p = 2, n_jobs = -1)\n",
        "\n",
        "  clf = Pipeline(steps=[\n",
        "      ('preprocessor', preprocessor),\n",
        "      ('model', model)\n",
        "  ])\n",
        "  \n",
        "  clf.fit(X_train,y_train)\n",
        "  y_pred = clf.predict(X_test)\n",
        "  print('KNN model : n_neighbors = {}'.format(k))\n",
        "  print('Training set score : ',clf.score(X_train,y_train))\n",
        "  print('Test set score : ',clf.score(X_test,y_test))\n"
      ],
      "execution_count": 19,
      "outputs": [
        {
          "output_type": "stream",
          "text": [
            "KNN model : n_neighbors = 5\n",
            "Training set score :  0.8470089994706194\n",
            "Test set score :  0.7763233878729547\n",
            "KNN model : n_neighbors = 6\n",
            "Training set score :  0.8335338562972232\n",
            "Test set score :  0.7807507218479307\n",
            "KNN model : n_neighbors = 7\n",
            "Training set score :  0.8378170268059099\n",
            "Test set score :  0.782483156881617\n",
            "KNN model : n_neighbors = 8\n",
            "Training set score :  0.8289619327205352\n",
            "Test set score :  0.785563041385948\n",
            "KNN model : n_neighbors = 9\n",
            "Training set score :  0.8320900909572164\n",
            "Test set score :  0.7890279114533205\n",
            "KNN model : n_neighbors = 10\n",
            "Training set score :  0.8262187785745223\n",
            "Test set score :  0.7884504331087584\n",
            "KNN model : n_neighbors = 11\n",
            "Training set score :  0.8273256653351941\n",
            "Test set score :  0.7934552454282965\n",
            "KNN model : n_neighbors = 12\n",
            "Training set score :  0.822994369315174\n",
            "Test set score :  0.7897978825794033\n",
            "KNN model : n_neighbors = 13\n",
            "Training set score :  0.8265556571538573\n",
            "Test set score :  0.7926852743022137\n",
            "KNN model : n_neighbors = 14\n",
            "Training set score :  0.8215024784638337\n",
            "Test set score :  0.7911453320500481\n"
          ],
          "name": "stdout"
        }
      ]
    }
  ]
}