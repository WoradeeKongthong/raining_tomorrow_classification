{
  "nbformat": 4,
  "nbformat_minor": 0,
  "metadata": {
    "colab": {
      "name": "09_Raining_ANN.ipynb",
      "provenance": [],
      "collapsed_sections": [],
      "toc_visible": true,
      "authorship_tag": "ABX9TyOJwP8XSQ8pLrfhxGtuFwho",
      "include_colab_link": true
    },
    "kernelspec": {
      "name": "python3",
      "display_name": "Python 3"
    }
  },
  "cells": [
    {
      "cell_type": "markdown",
      "metadata": {
        "id": "view-in-github",
        "colab_type": "text"
      },
      "source": [
        "<a href=\"https://colab.research.google.com/github/WoradeeKongthong/raining_tomorrow_classification/blob/master/09_Raining_ANN.ipynb\" target=\"_parent\"><img src=\"https://colab.research.google.com/assets/colab-badge.svg\" alt=\"Open In Colab\"/></a>"
      ]
    },
    {
      "cell_type": "code",
      "metadata": {
        "id": "H9iIO85c_xKL",
        "colab_type": "code",
        "colab": {
          "base_uri": "https://localhost:8080/",
          "height": 34
        },
        "outputId": "007ba780-cfb6-45ba-a26d-b6a82aa2d719"
      },
      "source": [
        "# libraries\n",
        "import pandas as pd\n",
        "import numpy as np\n",
        "import matplotlib.pyplot as plt\n",
        "\n",
        "\n",
        "from sklearn.impute import SimpleImputer\n",
        "from sklearn.preprocessing import OneHotEncoder, StandardScaler, MinMaxScaler\n",
        "from sklearn.compose import ColumnTransformer, make_column_transformer\n",
        "from sklearn.pipeline import Pipeline\n",
        "\n",
        "from sklearn.model_selection import cross_val_score\n",
        "from sklearn.model_selection import train_test_split\n",
        "from sklearn.metrics import confusion_matrix, accuracy_score, classification_report\n",
        "\n",
        "from keras.wrappers.scikit_learn import KerasClassifier\n",
        "from keras.models import Sequential\n",
        "from keras.layers import Dense, Dropout"
      ],
      "execution_count": 1,
      "outputs": [
        {
          "output_type": "stream",
          "text": [
            "Using TensorFlow backend.\n"
          ],
          "name": "stderr"
        }
      ]
    },
    {
      "cell_type": "markdown",
      "metadata": {
        "id": "9OmndkOjB4ye",
        "colab_type": "text"
      },
      "source": [
        "# Dataset"
      ]
    },
    {
      "cell_type": "code",
      "metadata": {
        "id": "QWOOlXuVAHxh",
        "colab_type": "code",
        "colab": {}
      },
      "source": [
        "df = pd.read_csv('https://raw.githubusercontent.com/WoradeeKongthong/raining_tomorrow_classification/master/weatherAUS.csv')"
      ],
      "execution_count": 0,
      "outputs": []
    },
    {
      "cell_type": "code",
      "metadata": {
        "id": "m4DT1HPoA4eb",
        "colab_type": "code",
        "colab": {
          "base_uri": "https://localhost:8080/",
          "height": 544
        },
        "outputId": "f707f070-08f5-48f9-87cc-6d71bc963459"
      },
      "source": [
        "df.info()"
      ],
      "execution_count": 3,
      "outputs": [
        {
          "output_type": "stream",
          "text": [
            "<class 'pandas.core.frame.DataFrame'>\n",
            "RangeIndex: 142193 entries, 0 to 142192\n",
            "Data columns (total 24 columns):\n",
            " #   Column         Non-Null Count   Dtype  \n",
            "---  ------         --------------   -----  \n",
            " 0   Date           142193 non-null  object \n",
            " 1   Location       142193 non-null  object \n",
            " 2   MinTemp        141556 non-null  float64\n",
            " 3   MaxTemp        141871 non-null  float64\n",
            " 4   Rainfall       140787 non-null  float64\n",
            " 5   Evaporation    81350 non-null   float64\n",
            " 6   Sunshine       74377 non-null   float64\n",
            " 7   WindGustDir    132863 non-null  object \n",
            " 8   WindGustSpeed  132923 non-null  float64\n",
            " 9   WindDir9am     132180 non-null  object \n",
            " 10  WindDir3pm     138415 non-null  object \n",
            " 11  WindSpeed9am   140845 non-null  float64\n",
            " 12  WindSpeed3pm   139563 non-null  float64\n",
            " 13  Humidity9am    140419 non-null  float64\n",
            " 14  Humidity3pm    138583 non-null  float64\n",
            " 15  Pressure9am    128179 non-null  float64\n",
            " 16  Pressure3pm    128212 non-null  float64\n",
            " 17  Cloud9am       88536 non-null   float64\n",
            " 18  Cloud3pm       85099 non-null   float64\n",
            " 19  Temp9am        141289 non-null  float64\n",
            " 20  Temp3pm        139467 non-null  float64\n",
            " 21  RainToday      140787 non-null  object \n",
            " 22  RISK_MM        142193 non-null  float64\n",
            " 23  RainTomorrow   142193 non-null  object \n",
            "dtypes: float64(17), object(7)\n",
            "memory usage: 26.0+ MB\n"
          ],
          "name": "stdout"
        }
      ]
    },
    {
      "cell_type": "code",
      "metadata": {
        "id": "6xkGvdIHA-vP",
        "colab_type": "code",
        "colab": {}
      },
      "source": [
        "# drop RISK_MM\n",
        "df.drop(['RISK_MM'], axis=1, inplace=True)\n",
        "\n",
        "# Handle the date column\n",
        "df['Date'] = pd.to_datetime(df['Date'])\n",
        "df['Year'] = df['Date'].dt.year\n",
        "df['Month'] = df['Date'].dt.month\n",
        "df['Day'] = df['Date'].dt.day\n",
        "#drop the unused 'Date' column\n",
        "df.drop(['Date'], axis=1, inplace=True)"
      ],
      "execution_count": 0,
      "outputs": []
    },
    {
      "cell_type": "code",
      "metadata": {
        "id": "ywsku5Z2Brtw",
        "colab_type": "code",
        "colab": {
          "base_uri": "https://localhost:8080/",
          "height": 561
        },
        "outputId": "0ccae157-a4e0-4b40-fb36-c2868b711de4"
      },
      "source": [
        "df.info()"
      ],
      "execution_count": 5,
      "outputs": [
        {
          "output_type": "stream",
          "text": [
            "<class 'pandas.core.frame.DataFrame'>\n",
            "RangeIndex: 142193 entries, 0 to 142192\n",
            "Data columns (total 25 columns):\n",
            " #   Column         Non-Null Count   Dtype  \n",
            "---  ------         --------------   -----  \n",
            " 0   Location       142193 non-null  object \n",
            " 1   MinTemp        141556 non-null  float64\n",
            " 2   MaxTemp        141871 non-null  float64\n",
            " 3   Rainfall       140787 non-null  float64\n",
            " 4   Evaporation    81350 non-null   float64\n",
            " 5   Sunshine       74377 non-null   float64\n",
            " 6   WindGustDir    132863 non-null  object \n",
            " 7   WindGustSpeed  132923 non-null  float64\n",
            " 8   WindDir9am     132180 non-null  object \n",
            " 9   WindDir3pm     138415 non-null  object \n",
            " 10  WindSpeed9am   140845 non-null  float64\n",
            " 11  WindSpeed3pm   139563 non-null  float64\n",
            " 12  Humidity9am    140419 non-null  float64\n",
            " 13  Humidity3pm    138583 non-null  float64\n",
            " 14  Pressure9am    128179 non-null  float64\n",
            " 15  Pressure3pm    128212 non-null  float64\n",
            " 16  Cloud9am       88536 non-null   float64\n",
            " 17  Cloud3pm       85099 non-null   float64\n",
            " 18  Temp9am        141289 non-null  float64\n",
            " 19  Temp3pm        139467 non-null  float64\n",
            " 20  RainToday      140787 non-null  object \n",
            " 21  RainTomorrow   142193 non-null  object \n",
            " 22  Year           142193 non-null  int64  \n",
            " 23  Month          142193 non-null  int64  \n",
            " 24  Day            142193 non-null  int64  \n",
            "dtypes: float64(16), int64(3), object(6)\n",
            "memory usage: 27.1+ MB\n"
          ],
          "name": "stdout"
        }
      ]
    },
    {
      "cell_type": "markdown",
      "metadata": {
        "id": "XyNn9GT2CB7v",
        "colab_type": "text"
      },
      "source": [
        "# X & y"
      ]
    },
    {
      "cell_type": "code",
      "metadata": {
        "id": "sKptJkw6BwKj",
        "colab_type": "code",
        "colab": {}
      },
      "source": [
        "X = df.drop(['RainTomorrow'], axis=1)\n",
        "y = df['RainTomorrow'].replace(['Yes','No'],[1,0])"
      ],
      "execution_count": 0,
      "outputs": []
    },
    {
      "cell_type": "markdown",
      "metadata": {
        "id": "5XnYF8lNCG4I",
        "colab_type": "text"
      },
      "source": [
        "# Training and Test sets"
      ]
    },
    {
      "cell_type": "code",
      "metadata": {
        "id": "QNM--ULHCJpR",
        "colab_type": "code",
        "colab": {}
      },
      "source": [
        "X_train, X_test, y_train, y_test = train_test_split(X, y, test_size=0.2)"
      ],
      "execution_count": 0,
      "outputs": []
    },
    {
      "cell_type": "markdown",
      "metadata": {
        "colab_type": "text",
        "id": "eld7lLTwHqIb"
      },
      "source": [
        "# **Handle the Outliers**\n",
        "Training Set\n",
        "- cap the outliers in X_train\n",
        "\n",
        "Test Set\n",
        "- cap the outliers in X_test using the upper_cap and lower_cap of X_train"
      ]
    },
    {
      "cell_type": "markdown",
      "metadata": {
        "id": "W10238cQdgk_",
        "colab_type": "text"
      },
      "source": [
        "## **Cap the outlier in X_train**"
      ]
    },
    {
      "cell_type": "code",
      "metadata": {
        "colab_type": "code",
        "id": "LhH5ybtJea9k",
        "colab": {}
      },
      "source": [
        "Q1 = X_train.quantile(0.25)\n",
        "Q3 = X_train.quantile(0.75)\n",
        "IQR = Q3 - Q1\n",
        "\n",
        "lower_cap = Q1 - 1.5*IQR\n",
        "upper_cap = Q3 + 1.5*IQR\n",
        "\n",
        "features = lower_cap.index.values\n",
        "\n",
        "for feature in features :\n",
        "  X_train.loc[:,feature] = np.where(X_train.loc[:,feature]<lower_cap[feature],lower_cap[feature], X_train.loc[:,feature])\n",
        "  X_train.loc[:,feature] = np.where(X_train.loc[:,feature]>upper_cap[feature],upper_cap[feature], X_train.loc[:,feature])"
      ],
      "execution_count": 0,
      "outputs": []
    },
    {
      "cell_type": "markdown",
      "metadata": {
        "id": "KuEdINujegSA",
        "colab_type": "text"
      },
      "source": [
        "## **Cap the outlier in X_test**"
      ]
    },
    {
      "cell_type": "code",
      "metadata": {
        "colab_type": "code",
        "id": "2-2YEbQcea9p",
        "colab": {}
      },
      "source": [
        "for feature in features :\n",
        "  X_test.loc[:,feature] = np.where(X_test.loc[:,feature]<lower_cap[feature],lower_cap[feature], X_test.loc[:,feature])\n",
        "  X_test.loc[:,feature] = np.where(X_test.loc[:,feature]>upper_cap[feature],upper_cap[feature], X_test.loc[:,feature])"
      ],
      "execution_count": 0,
      "outputs": []
    },
    {
      "cell_type": "markdown",
      "metadata": {
        "id": "X9gI8rbgDE8e",
        "colab_type": "text"
      },
      "source": [
        "# ANN with pipeline"
      ]
    },
    {
      "cell_type": "markdown",
      "metadata": {
        "id": "T8gTLxR-CR9G",
        "colab_type": "text"
      },
      "source": [
        "## **Create Preprocessor : ColumnTransformer of numerical and categorical features**"
      ]
    },
    {
      "cell_type": "code",
      "metadata": {
        "id": "XOIxfCjtD5I9",
        "colab_type": "code",
        "colab": {}
      },
      "source": [
        "numerical_features = [x for x in X.columns if df[x].dtype != 'object']\n",
        "\n",
        "numeric_transformer = Pipeline(steps=[\n",
        "          ('imputer', SimpleImputer(strategy='median')),\n",
        "          ('scaler', MinMaxScaler())\n",
        "])\n",
        "\n",
        "categorical_features = [x for x in X.columns if df[x].dtype == 'object']\n",
        "\n",
        "categorical_transformer = Pipeline(steps=[\n",
        "          ('imputer', SimpleImputer(strategy='most_frequent')),\n",
        "          ('onehot', OneHotEncoder(handle_unknown='ignore'))\n",
        "])\n",
        "\n",
        "preprocessor = ColumnTransformer(\n",
        "    transformers=[\n",
        "          ('num', numeric_transformer, numerical_features),\n",
        "          ('cat', categorical_transformer, categorical_features)\n",
        "    ]\n",
        ")"
      ],
      "execution_count": 0,
      "outputs": []
    },
    {
      "cell_type": "markdown",
      "metadata": {
        "id": "vPVvzPIUSbfy",
        "colab_type": "text"
      },
      "source": [
        "## **Create ANN and find the best one**"
      ]
    },
    {
      "cell_type": "code",
      "metadata": {
        "id": "Prl45QUPIT03",
        "colab_type": "code",
        "colab": {}
      },
      "source": [
        "X_train_copied = preprocessor.fit_transform(X_train)"
      ],
      "execution_count": 0,
      "outputs": []
    },
    {
      "cell_type": "code",
      "metadata": {
        "id": "p6HynrBQJftA",
        "colab_type": "code",
        "colab": {
          "base_uri": "https://localhost:8080/",
          "height": 34
        },
        "outputId": "80ec1d27-aa0e-4f2a-c839-84564e7e4cff"
      },
      "source": [
        "X_train_copied.shape"
      ],
      "execution_count": 12,
      "outputs": [
        {
          "output_type": "execute_result",
          "data": {
            "text/plain": [
              "(113754, 118)"
            ]
          },
          "metadata": {
            "tags": []
          },
          "execution_count": 12
        }
      ]
    },
    {
      "cell_type": "markdown",
      "metadata": {
        "id": "nN_NSxThQ6YU",
        "colab_type": "text"
      },
      "source": [
        "### Starter ANN"
      ]
    },
    {
      "cell_type": "code",
      "metadata": {
        "id": "QMg6-FaGSQj6",
        "colab_type": "code",
        "colab": {}
      },
      "source": [
        "# ANN architecture\n",
        "model = Sequential()\n",
        "model.add(Dense(units=118, kernel_initializer='uniform', activation='relu', input_dim=118))\n",
        "model.add(Dense(units=60, kernel_initializer='uniform', activation='relu'))\n",
        "model.add(Dense(units=15, kernel_initializer='uniform', activation='relu'))\n",
        "model.add(Dense(units=1, kernel_initializer='uniform', activation='sigmoid'))\n",
        "# compile the model\n",
        "model.compile(optimizer='adam', loss='binary_crossentropy', metrics=['accuracy'])"
      ],
      "execution_count": 0,
      "outputs": []
    },
    {
      "cell_type": "code",
      "metadata": {
        "id": "8j4LjSzWLKPC",
        "colab_type": "code",
        "colab": {}
      },
      "source": [
        "# function for showing the evaluation of the model\n",
        "def evaluate_model(history):\n",
        "  # print final metrics for training and validation sets\n",
        "  print('Training accuracy : ', history.history['accuracy'][-1])\n",
        "  print('Validation accuracy : ', history.history['val_accuracy'][-1])\n",
        "\n",
        "  fig = plt.figure(figsize=(12,4))\n",
        "\n",
        "  # plot the model accuracy\n",
        "  fig.add_subplot(121)\n",
        "  plt.plot(history.history['accuracy'])\n",
        "  plt.plot(history.history['val_accuracy'])\n",
        "  plt.title('accuracy')\n",
        "  plt.ylabel('accuracy')\n",
        "  plt.xlabel('epoch')\n",
        "  plt.legend(['training set', 'validation set'], loc='upper left')\n",
        "\n",
        "  # plot the model loss\n",
        "  fig.add_subplot(122)\n",
        "  plt.plot(history.history['loss'])\n",
        "  plt.plot(history.history['val_loss'])\n",
        "  plt.title('loss')\n",
        "  plt.ylabel('loss')\n",
        "  plt.xlabel('epoch')\n",
        "  plt.legend(['training set', 'validation set'], loc='upper left')\n",
        "  \n",
        "  fig.tight_layout()\n",
        "  plt.show()"
      ],
      "execution_count": 0,
      "outputs": []
    },
    {
      "cell_type": "markdown",
      "metadata": {
        "id": "Te9y00ikb1kI",
        "colab_type": "text"
      },
      "source": [
        "Training the ANN classifier along with doing the cross validation."
      ]
    },
    {
      "cell_type": "code",
      "metadata": {
        "id": "JaU0s5XcKU7j",
        "colab_type": "code",
        "colab": {
          "base_uri": "https://localhost:8080/",
          "height": 331
        },
        "outputId": "e3f0afa3-4e3d-4618-ac9b-961906fbbbba"
      },
      "source": [
        "# Training the ANN\n",
        "history = model.fit(X_train_copied, y_train, validation_split=0.2, batch_size=1000, epochs=100,verbose=0)\n",
        "evaluate_model(history)"
      ],
      "execution_count": 33,
      "outputs": [
        {
          "output_type": "stream",
          "text": [
            "Training accuracy :  0.88720155\n",
            "Validation accuracy :  0.8491934537887573\n"
          ],
          "name": "stdout"
        },
        {
          "output_type": "display_data",
          "data": {
            "image/png": "[encoded data removed]",
            "text/plain": [
              "<Figure size 864x288 with 2 Axes>"
            ]
          },
          "metadata": {
            "tags": [],
            "needs_background": "light"
          }
        }
      ]
    },
    {
      "cell_type": "markdown",
      "metadata": {
        "id": "3R2sgLsHOiIB",
        "colab_type": "text"
      },
      "source": [
        "Note :  \n",
        "Looks like we have overfitting problem."
      ]
    },
    {
      "cell_type": "markdown",
      "metadata": {
        "id": "IS21pY6YQFOI",
        "colab_type": "text"
      },
      "source": [
        "### Try adding Dropout Regularization."
      ]
    },
    {
      "cell_type": "code",
      "metadata": {
        "id": "30VfbnMfQLMc",
        "colab_type": "code",
        "colab": {}
      },
      "source": [
        "# ANN architecture\n",
        "model = Sequential()\n",
        "model.add(Dense(units=118, kernel_initializer='uniform', activation='relu', input_dim=118))\n",
        "model.add(Dropout(0.4))\n",
        "model.add(Dense(units=60, kernel_initializer='uniform', activation='relu'))\n",
        "model.add(Dropout(0.4))\n",
        "model.add(Dense(units=15, kernel_initializer='uniform', activation='relu'))\n",
        "model.add(Dropout(0.4))\n",
        "model.add(Dense(units=1, kernel_initializer='uniform', activation='sigmoid'))\n",
        "# compile the model\n",
        "model.compile(optimizer='adam', loss='binary_crossentropy', metrics=['accuracy'])"
      ],
      "execution_count": 0,
      "outputs": []
    },
    {
      "cell_type": "code",
      "metadata": {
        "id": "rtZ-jCeoQTXr",
        "colab_type": "code",
        "colab": {
          "base_uri": "https://localhost:8080/",
          "height": 331
        },
        "outputId": "20759428-984f-4c81-a4f1-58934672073b"
      },
      "source": [
        "# Training the ANN\n",
        "history = model.fit(X_train_copied, y_train, validation_split=0.2, batch_size=1000, epochs=100,verbose=0)\n",
        "evaluate_model(history)"
      ],
      "execution_count": 35,
      "outputs": [
        {
          "output_type": "stream",
          "text": [
            "Training accuracy :  0.8704988\n",
            "Validation accuracy :  0.8545119166374207\n"
          ],
          "name": "stdout"
        },
        {
          "output_type": "display_data",
          "data": {
            "image/png": "[encoded data removed]",
            "text/plain": [
              "<Figure size 864x288 with 2 Axes>"
            ]
          },
          "metadata": {
            "tags": [],
            "needs_background": "light"
          }
        }
      ]
    },
    {
      "cell_type": "markdown",
      "metadata": {
        "id": "LEASB8JtQxzC",
        "colab_type": "text"
      },
      "source": [
        "Note :  \n",
        "The ANN is low variance.  \n",
        "I'm not sure if this loss level define high bias.  \n",
        "Try add more layers."
      ]
    },
    {
      "cell_type": "code",
      "metadata": {
        "id": "fVCBWE9XrBXW",
        "colab_type": "code",
        "colab": {}
      },
      "source": [
        "# ANN architecture\n",
        "model = Sequential()\n",
        "model.add(Dense(units=118, kernel_initializer='uniform', activation='relu', input_dim=118))\n",
        "model.add(Dropout(0.4))\n",
        "model.add(Dense(units=60, kernel_initializer='uniform', activation='relu'))\n",
        "model.add(Dropout(0.4))\n",
        "model.add(Dense(units=60, kernel_initializer='uniform', activation='relu'))\n",
        "model.add(Dropout(0.4))\n",
        "model.add(Dense(units=15, kernel_initializer='uniform', activation='relu'))\n",
        "model.add(Dropout(0.4))\n",
        "model.add(Dense(units=1, kernel_initializer='uniform', activation='sigmoid'))\n",
        "# compile the model\n",
        "model.compile(optimizer='adam', loss='binary_crossentropy', metrics=['accuracy'])"
      ],
      "execution_count": 0,
      "outputs": []
    },
    {
      "cell_type": "code",
      "metadata": {
        "id": "XKxkzdnUrLhU",
        "colab_type": "code",
        "colab": {
          "base_uri": "https://localhost:8080/",
          "height": 331
        },
        "outputId": "8692b06f-ba59-4a6e-c1e6-faab290fb7e6"
      },
      "source": [
        "# Training the ANN\n",
        "history = model.fit(X_train_copied, y_train, validation_split=0.2, batch_size=1000, epochs=100,verbose=0)\n",
        "evaluate_model(history)"
      ],
      "execution_count": 37,
      "outputs": [
        {
          "output_type": "stream",
          "text": [
            "Training accuracy :  0.8696966\n",
            "Validation accuracy :  0.8548195958137512\n"
          ],
          "name": "stdout"
        },
        {
          "output_type": "display_data",
          "data": {
            "image/png": "[encoded data removed]",
            "text/plain": [
              "<Figure size 864x288 with 2 Axes>"
            ]
          },
          "metadata": {
            "tags": [],
            "needs_background": "light"
          }
        }
      ]
    },
    {
      "cell_type": "markdown",
      "metadata": {
        "id": "jEEGFlmNsCiE",
        "colab_type": "text"
      },
      "source": [
        "Note :  \n",
        "- The accuracy is not increased.\n",
        "- The loss is not decreased.\n",
        "- The former model is better in timimg."
      ]
    },
    {
      "cell_type": "markdown",
      "metadata": {
        "id": "6vjGpJtAarI3",
        "colab_type": "text"
      },
      "source": [
        "## wrap the final ANN with KerasClassifier"
      ]
    },
    {
      "cell_type": "code",
      "metadata": {
        "id": "T_RVSjvya6Dk",
        "colab_type": "code",
        "colab": {}
      },
      "source": [
        "# function for creating ANN model\n",
        "def create_model():\n",
        "  # ANN architecture\n",
        "  model = Sequential()\n",
        "  model.add(Dense(units=118, kernel_initializer='uniform', activation='relu', input_dim=118))\n",
        "  model.add(Dropout(0.4))\n",
        "  model.add(Dense(units=60, kernel_initializer='uniform', activation='relu'))\n",
        "  model.add(Dropout(0.4))\n",
        "  model.add(Dense(units=15, kernel_initializer='uniform', activation='relu'))\n",
        "  model.add(Dropout(0.4))\n",
        "  model.add(Dense(units=1, kernel_initializer='uniform', activation='sigmoid'))\n",
        "  # compile the model\n",
        "  model.compile(optimizer='adam', loss='binary_crossentropy', metrics=['accuracy'])\n",
        "  return model\n",
        "\n",
        "model = KerasClassifier(build_fn=create_model, batch_size=1000, epochs=100,verbose=0)"
      ],
      "execution_count": 0,
      "outputs": []
    },
    {
      "cell_type": "markdown",
      "metadata": {
        "id": "gY_lpfneSrHi",
        "colab_type": "text"
      },
      "source": [
        "## **Create Pipeline**"
      ]
    },
    {
      "cell_type": "code",
      "metadata": {
        "id": "HJOsYV7mSqkv",
        "colab_type": "code",
        "colab": {}
      },
      "source": [
        "clf = Pipeline(steps=[\n",
        "      ('preprocessor', preprocessor),\n",
        "      ('model', model)\n",
        "])"
      ],
      "execution_count": 0,
      "outputs": []
    },
    {
      "cell_type": "markdown",
      "metadata": {
        "id": "ehj5f2TlfFVh",
        "colab_type": "text"
      },
      "source": [
        "# **Model Evaluation**"
      ]
    },
    {
      "cell_type": "markdown",
      "metadata": {
        "colab_type": "text",
        "id": "r8Sj1iG9Ko0q"
      },
      "source": [
        "## **Cross Validation**"
      ]
    },
    {
      "cell_type": "code",
      "metadata": {
        "id": "JU7YOl_wix3m",
        "colab_type": "code",
        "colab": {
          "base_uri": "https://localhost:8080/",
          "height": 85
        },
        "outputId": "84cfbff8-c2f2-4302-e85b-201d4f3f796f"
      },
      "source": [
        "accuracy = cross_val_score(clf,X_train,y_train,cv=10)\n",
        "print('accuracy : ', accuracy)\n",
        "print('mean : ', accuracy.mean())\n",
        "print('std : ', accuracy.std())"
      ],
      "execution_count": 21,
      "outputs": [
        {
          "output_type": "stream",
          "text": [
            "accuracy :  [0.85671592 0.85574895 0.85944092 0.85706753 0.85723078 0.86312085\n",
            " 0.85837364 0.85696703 0.85854948 0.85863733]\n",
            "mean :  0.8581852436065673\n",
            "std :  0.0019505971102909627\n"
          ],
          "name": "stdout"
        }
      ]
    },
    {
      "cell_type": "markdown",
      "metadata": {
        "id": "_z9pipGDoGI9",
        "colab_type": "text"
      },
      "source": [
        "Note :  \n",
        "The model is low bias, and very low variance."
      ]
    },
    {
      "cell_type": "markdown",
      "metadata": {
        "colab_type": "text",
        "id": "DOpQv9dQKo0x"
      },
      "source": [
        "## **Training and Test evaluation**"
      ]
    },
    {
      "cell_type": "code",
      "metadata": {
        "colab_type": "code",
        "outputId": "7500c61d-3be5-471f-c806-34da755d847c",
        "id": "WmaZx-SOKo0y",
        "colab": {
          "base_uri": "https://localhost:8080/",
          "height": 391
        }
      },
      "source": [
        "clf.fit(X_train,y_train)\n",
        "y_pred = clf.predict(X_test)\n",
        "\n",
        "print('\\n\\nTraining and Test Sets result')\n",
        "print('\\naccuracy score : ', accuracy_score(y_test,y_pred))\n",
        "print('\\nconfusion matrix : \\n', confusion_matrix(y_test, y_pred))\n",
        "print('\\nclassification report : \\n', classification_report(y_test,y_pred))\n",
        "\n",
        "print('Training set score : ',clf.score(X_train,y_train))\n",
        "print('Test set score : ',clf.score(X_test,y_test))"
      ],
      "execution_count": 41,
      "outputs": [
        {
          "output_type": "stream",
          "text": [
            "\n",
            "\n",
            "Training and Test Sets result\n",
            "\n",
            "accuracy score :  0.8582228629698653\n",
            "\n",
            "confusion matrix : \n",
            " [[20996  1017]\n",
            " [ 3015  3411]]\n",
            "\n",
            "classification report : \n",
            "               precision    recall  f1-score   support\n",
            "\n",
            "           0       0.87      0.95      0.91     22013\n",
            "           1       0.77      0.53      0.63      6426\n",
            "\n",
            "    accuracy                           0.86     28439\n",
            "   macro avg       0.82      0.74      0.77     28439\n",
            "weighted avg       0.85      0.86      0.85     28439\n",
            "\n",
            "Training set score :  0.884680986404419\n",
            "Test set score :  0.8582228422164917\n"
          ],
          "name": "stdout"
        }
      ]
    }
  ]
}