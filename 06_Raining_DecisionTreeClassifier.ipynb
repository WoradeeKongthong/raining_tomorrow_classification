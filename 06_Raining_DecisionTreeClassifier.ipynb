{
  "nbformat": 4,
  "nbformat_minor": 0,
  "metadata": {
    "colab": {
      "name": "06_Raining_DecisionTreeClassifier.ipynb",
      "provenance": [],
      "authorship_tag": "ABX9TyOaE/0xcrYo/IS6UBGd+6T9",
      "include_colab_link": true
    },
    "kernelspec": {
      "name": "python3",
      "display_name": "Python 3"
    }
  },
  "cells": [
    {
      "cell_type": "markdown",
      "metadata": {
        "id": "view-in-github",
        "colab_type": "text"
      },
      "source": [
        "<a href=\"https://colab.research.google.com/github/WoradeeKongthong/raining_tomorrow_classification/blob/master/06_Raining_DecisionTreeClassifier.ipynb\" target=\"_parent\"><img src=\"https://colab.research.google.com/assets/colab-badge.svg\" alt=\"Open In Colab\"/></a>"
      ]
    },
    {
      "cell_type": "markdown",
      "metadata": {
        "id": "NzAQNizAP0nG",
        "colab_type": "text"
      },
      "source": [
        "Based on Feature Engineering in part 02  \n",
        "Outliers : I'll cap the outliers in X_train. And cap the outliers in X_test using the boundaries of X_train.  \n",
        "Missing values : I'll impute the missing values in categorical features with 'most frequent' value,  \n",
        "and impute the missing values in numerical features with median."
      ]
    },
    {
      "cell_type": "code",
      "metadata": {
        "id": "Zyn_b_XCxRkV",
        "colab_type": "code",
        "colab": {}
      },
      "source": [
        "# libraries\n",
        "import pandas as pd\n",
        "import numpy as np\n",
        "\n",
        "from sklearn.impute import SimpleImputer\n",
        "from sklearn.preprocessing import OneHotEncoder, StandardScaler, MinMaxScaler\n",
        "from sklearn.compose import ColumnTransformer, make_column_transformer\n",
        "from sklearn.pipeline import Pipeline\n",
        "\n",
        "from sklearn.model_selection import cross_val_score, train_test_split, GridSearchCV\n",
        "from sklearn.metrics import confusion_matrix, accuracy_score, classification_report"
      ],
      "execution_count": 0,
      "outputs": []
    },
    {
      "cell_type": "markdown",
      "metadata": {
        "id": "HbQH-UK5xWlL",
        "colab_type": "text"
      },
      "source": [
        "# **Data Set**"
      ]
    },
    {
      "cell_type": "code",
      "metadata": {
        "id": "UF6DT6FQxUxt",
        "colab_type": "code",
        "colab": {}
      },
      "source": [
        "df = pd.read_csv('https://raw.githubusercontent.com/WoradeeKongthong/raining_tomorrow_classification/master/weatherAUS.csv')"
      ],
      "execution_count": 0,
      "outputs": []
    },
    {
      "cell_type": "code",
      "metadata": {
        "id": "MPNHKHJ7xeWT",
        "colab_type": "code",
        "outputId": "034c16cc-0d33-4e22-ee31-2d4a6b7292a7",
        "colab": {
          "base_uri": "https://localhost:8080/",
          "height": 544
        }
      },
      "source": [
        "df.info()"
      ],
      "execution_count": 3,
      "outputs": [
        {
          "output_type": "stream",
          "text": [
            "<class 'pandas.core.frame.DataFrame'>\n",
            "RangeIndex: 142193 entries, 0 to 142192\n",
            "Data columns (total 24 columns):\n",
            " #   Column         Non-Null Count   Dtype  \n",
            "---  ------         --------------   -----  \n",
            " 0   Date           142193 non-null  object \n",
            " 1   Location       142193 non-null  object \n",
            " 2   MinTemp        141556 non-null  float64\n",
            " 3   MaxTemp        141871 non-null  float64\n",
            " 4   Rainfall       140787 non-null  float64\n",
            " 5   Evaporation    81350 non-null   float64\n",
            " 6   Sunshine       74377 non-null   float64\n",
            " 7   WindGustDir    132863 non-null  object \n",
            " 8   WindGustSpeed  132923 non-null  float64\n",
            " 9   WindDir9am     132180 non-null  object \n",
            " 10  WindDir3pm     138415 non-null  object \n",
            " 11  WindSpeed9am   140845 non-null  float64\n",
            " 12  WindSpeed3pm   139563 non-null  float64\n",
            " 13  Humidity9am    140419 non-null  float64\n",
            " 14  Humidity3pm    138583 non-null  float64\n",
            " 15  Pressure9am    128179 non-null  float64\n",
            " 16  Pressure3pm    128212 non-null  float64\n",
            " 17  Cloud9am       88536 non-null   float64\n",
            " 18  Cloud3pm       85099 non-null   float64\n",
            " 19  Temp9am        141289 non-null  float64\n",
            " 20  Temp3pm        139467 non-null  float64\n",
            " 21  RainToday      140787 non-null  object \n",
            " 22  RISK_MM        142193 non-null  float64\n",
            " 23  RainTomorrow   142193 non-null  object \n",
            "dtypes: float64(17), object(7)\n",
            "memory usage: 26.0+ MB\n"
          ],
          "name": "stdout"
        }
      ]
    },
    {
      "cell_type": "code",
      "metadata": {
        "id": "zj7iJFs5yR4t",
        "colab_type": "code",
        "colab": {}
      },
      "source": [
        "# drop RISK_MM column (Recommendation from data description in Kaggle)\n",
        "df.drop(['RISK_MM'], axis = 1, inplace = True)\n",
        "\n",
        "# Extract Year, Month, Day from Date column\n",
        "df['Date'] = pd.to_datetime(df['Date'])\n",
        "df['Year'] = df['Date'].dt.year\n",
        "df['Month'] = df['Date'].dt.month\n",
        "df['Day'] = df['Date'].dt.day\n",
        "\n",
        "# drop Date column\n",
        "df.drop(['Date'], axis = 1, inplace = True)\n",
        "\n",
        "# select year 2015-2017 to train the model\n",
        "df = df[df['Year'] > 2014]"
      ],
      "execution_count": 0,
      "outputs": []
    },
    {
      "cell_type": "code",
      "metadata": {
        "id": "wib900L2yWUs",
        "colab_type": "code",
        "outputId": "394b08f4-6f56-40d6-cb15-52bc40227498",
        "colab": {
          "base_uri": "https://localhost:8080/",
          "height": 561
        }
      },
      "source": [
        "df.info()"
      ],
      "execution_count": 5,
      "outputs": [
        {
          "output_type": "stream",
          "text": [
            "<class 'pandas.core.frame.DataFrame'>\n",
            "Int64Index: 43205 entries, 2109 to 142192\n",
            "Data columns (total 25 columns):\n",
            " #   Column         Non-Null Count  Dtype  \n",
            "---  ------         --------------  -----  \n",
            " 0   Location       43205 non-null  object \n",
            " 1   MinTemp        43002 non-null  float64\n",
            " 2   MaxTemp        43081 non-null  float64\n",
            " 3   Rainfall       42799 non-null  float64\n",
            " 4   Evaporation    19472 non-null  float64\n",
            " 5   Sunshine       16085 non-null  float64\n",
            " 6   WindGustDir    40818 non-null  object \n",
            " 7   WindGustSpeed  40837 non-null  float64\n",
            " 8   WindDir9am     40515 non-null  object \n",
            " 9   WindDir3pm     41457 non-null  object \n",
            " 10  WindSpeed9am   42990 non-null  float64\n",
            " 11  WindSpeed3pm   41715 non-null  float64\n",
            " 12  Humidity9am    42696 non-null  float64\n",
            " 13  Humidity3pm    40781 non-null  float64\n",
            " 14  Pressure9am    38536 non-null  float64\n",
            " 15  Pressure3pm    38533 non-null  float64\n",
            " 16  Cloud9am       25312 non-null  float64\n",
            " 17  Cloud3pm       22877 non-null  float64\n",
            " 18  Temp9am        43084 non-null  float64\n",
            " 19  Temp3pm        41142 non-null  float64\n",
            " 20  RainToday      42799 non-null  object \n",
            " 21  RainTomorrow   43205 non-null  object \n",
            " 22  Year           43205 non-null  int64  \n",
            " 23  Month          43205 non-null  int64  \n",
            " 24  Day            43205 non-null  int64  \n",
            "dtypes: float64(16), int64(3), object(6)\n",
            "memory usage: 8.6+ MB\n"
          ],
          "name": "stdout"
        }
      ]
    },
    {
      "cell_type": "code",
      "metadata": {
        "id": "DyVUietnBKdC",
        "colab_type": "code",
        "colab": {}
      },
      "source": [
        "X = df.drop(['RainTomorrow'], axis=1)\n",
        "y = df['RainTomorrow']"
      ],
      "execution_count": 0,
      "outputs": []
    },
    {
      "cell_type": "code",
      "metadata": {
        "id": "6i2T_KdUJl_Q",
        "colab_type": "code",
        "colab": {}
      },
      "source": [
        "X_train, X_test, y_train, y_test = train_test_split(X,y,test_size=0.2)"
      ],
      "execution_count": 0,
      "outputs": []
    },
    {
      "cell_type": "code",
      "metadata": {
        "id": "siD4HoCqJ10U",
        "colab_type": "code",
        "outputId": "7a3fffc0-34f2-4a06-e1b3-4a75242d00b6",
        "colab": {
          "base_uri": "https://localhost:8080/",
          "height": 119
        }
      },
      "source": [
        "# create temp_df to combine X_train and y_train and cap the outliers\n",
        "temp_df = X_train\n",
        "temp_df['RainTomorrow'] = y_train"
      ],
      "execution_count": 8,
      "outputs": [
        {
          "output_type": "stream",
          "text": [
            "/usr/local/lib/python3.6/dist-packages/ipykernel_launcher.py:3: SettingWithCopyWarning: \n",
            "A value is trying to be set on a copy of a slice from a DataFrame.\n",
            "Try using .loc[row_indexer,col_indexer] = value instead\n",
            "\n",
            "See the caveats in the documentation: https://pandas.pydata.org/pandas-docs/stable/user_guide/indexing.html#returning-a-view-versus-a-copy\n",
            "  This is separate from the ipykernel package so we can avoid doing imports until\n"
          ],
          "name": "stderr"
        }
      ]
    },
    {
      "cell_type": "code",
      "metadata": {
        "id": "1bmia_JVYCQ2",
        "colab_type": "code",
        "outputId": "18abb522-d697-4c06-cee7-7ccb65162c9d",
        "colab": {
          "base_uri": "https://localhost:8080/",
          "height": 439
        }
      },
      "source": [
        "temp_df"
      ],
      "execution_count": 9,
      "outputs": [
        {
          "output_type": "execute_result",
          "data": {
            "text/html": [
              "<div>\n",
              "<style scoped>\n",
              "    .dataframe tbody tr th:only-of-type {\n",
              "        vertical-align: middle;\n",
              "    }\n",
              "\n",
              "    .dataframe tbody tr th {\n",
              "        vertical-align: top;\n",
              "    }\n",
              "\n",
              "    .dataframe thead th {\n",
              "        text-align: right;\n",
              "    }\n",
              "</style>\n",
              "<table border=\"1\" class=\"dataframe\">\n",
              "  <thead>\n",
              "    <tr style=\"text-align: right;\">\n",
              "      <th></th>\n",
              "      <th>Location</th>\n",
              "      <th>MinTemp</th>\n",
              "      <th>MaxTemp</th>\n",
              "      <th>Rainfall</th>\n",
              "      <th>Evaporation</th>\n",
              "      <th>Sunshine</th>\n",
              "      <th>WindGustDir</th>\n",
              "      <th>WindGustSpeed</th>\n",
              "      <th>WindDir9am</th>\n",
              "      <th>WindDir3pm</th>\n",
              "      <th>WindSpeed9am</th>\n",
              "      <th>WindSpeed3pm</th>\n",
              "      <th>Humidity9am</th>\n",
              "      <th>Humidity3pm</th>\n",
              "      <th>Pressure9am</th>\n",
              "      <th>Pressure3pm</th>\n",
              "      <th>Cloud9am</th>\n",
              "      <th>Cloud3pm</th>\n",
              "      <th>Temp9am</th>\n",
              "      <th>Temp3pm</th>\n",
              "      <th>RainToday</th>\n",
              "      <th>Year</th>\n",
              "      <th>Month</th>\n",
              "      <th>Day</th>\n",
              "      <th>RainTomorrow</th>\n",
              "    </tr>\n",
              "  </thead>\n",
              "  <tbody>\n",
              "    <tr>\n",
              "      <th>67875</th>\n",
              "      <td>Melbourne</td>\n",
              "      <td>6.5</td>\n",
              "      <td>13.0</td>\n",
              "      <td>1.2</td>\n",
              "      <td>1.6</td>\n",
              "      <td>7.0</td>\n",
              "      <td>SSW</td>\n",
              "      <td>35.0</td>\n",
              "      <td>W</td>\n",
              "      <td>SSW</td>\n",
              "      <td>13.0</td>\n",
              "      <td>13.0</td>\n",
              "      <td>85.0</td>\n",
              "      <td>63.0</td>\n",
              "      <td>1015.2</td>\n",
              "      <td>1015.7</td>\n",
              "      <td>7.0</td>\n",
              "      <td>5.0</td>\n",
              "      <td>8.1</td>\n",
              "      <td>12.2</td>\n",
              "      <td>Yes</td>\n",
              "      <td>2016</td>\n",
              "      <td>8</td>\n",
              "      <td>25</td>\n",
              "      <td>No</td>\n",
              "    </tr>\n",
              "    <tr>\n",
              "      <th>120610</th>\n",
              "      <td>Perth</td>\n",
              "      <td>7.0</td>\n",
              "      <td>19.2</td>\n",
              "      <td>0.0</td>\n",
              "      <td>4.0</td>\n",
              "      <td>4.0</td>\n",
              "      <td>WSW</td>\n",
              "      <td>24.0</td>\n",
              "      <td>SW</td>\n",
              "      <td>W</td>\n",
              "      <td>7.0</td>\n",
              "      <td>11.0</td>\n",
              "      <td>74.0</td>\n",
              "      <td>62.0</td>\n",
              "      <td>1025.1</td>\n",
              "      <td>1021.7</td>\n",
              "      <td>8.0</td>\n",
              "      <td>7.0</td>\n",
              "      <td>12.6</td>\n",
              "      <td>17.5</td>\n",
              "      <td>No</td>\n",
              "      <td>2016</td>\n",
              "      <td>9</td>\n",
              "      <td>9</td>\n",
              "      <td>No</td>\n",
              "    </tr>\n",
              "    <tr>\n",
              "      <th>138536</th>\n",
              "      <td>Darwin</td>\n",
              "      <td>28.1</td>\n",
              "      <td>35.7</td>\n",
              "      <td>0.0</td>\n",
              "      <td>11.2</td>\n",
              "      <td>8.0</td>\n",
              "      <td>ESE</td>\n",
              "      <td>72.0</td>\n",
              "      <td>W</td>\n",
              "      <td>WNW</td>\n",
              "      <td>13.0</td>\n",
              "      <td>31.0</td>\n",
              "      <td>65.0</td>\n",
              "      <td>55.0</td>\n",
              "      <td>1010.7</td>\n",
              "      <td>1007.3</td>\n",
              "      <td>2.0</td>\n",
              "      <td>7.0</td>\n",
              "      <td>31.8</td>\n",
              "      <td>34.1</td>\n",
              "      <td>No</td>\n",
              "      <td>2015</td>\n",
              "      <td>11</td>\n",
              "      <td>26</td>\n",
              "      <td>Yes</td>\n",
              "    </tr>\n",
              "    <tr>\n",
              "      <th>44146</th>\n",
              "      <td>Wollongong</td>\n",
              "      <td>19.9</td>\n",
              "      <td>24.0</td>\n",
              "      <td>0.0</td>\n",
              "      <td>NaN</td>\n",
              "      <td>NaN</td>\n",
              "      <td>S</td>\n",
              "      <td>65.0</td>\n",
              "      <td>E</td>\n",
              "      <td>S</td>\n",
              "      <td>11.0</td>\n",
              "      <td>46.0</td>\n",
              "      <td>72.0</td>\n",
              "      <td>87.0</td>\n",
              "      <td>1009.9</td>\n",
              "      <td>1008.6</td>\n",
              "      <td>NaN</td>\n",
              "      <td>8.0</td>\n",
              "      <td>22.1</td>\n",
              "      <td>19.4</td>\n",
              "      <td>No</td>\n",
              "      <td>2016</td>\n",
              "      <td>11</td>\n",
              "      <td>23</td>\n",
              "      <td>Yes</td>\n",
              "    </tr>\n",
              "    <tr>\n",
              "      <th>135658</th>\n",
              "      <td>AliceSprings</td>\n",
              "      <td>14.0</td>\n",
              "      <td>24.0</td>\n",
              "      <td>3.6</td>\n",
              "      <td>0.0</td>\n",
              "      <td>NaN</td>\n",
              "      <td>N</td>\n",
              "      <td>52.0</td>\n",
              "      <td>NNE</td>\n",
              "      <td>NNW</td>\n",
              "      <td>17.0</td>\n",
              "      <td>31.0</td>\n",
              "      <td>77.0</td>\n",
              "      <td>52.0</td>\n",
              "      <td>1015.4</td>\n",
              "      <td>1011.5</td>\n",
              "      <td>8.0</td>\n",
              "      <td>3.0</td>\n",
              "      <td>18.2</td>\n",
              "      <td>24.1</td>\n",
              "      <td>Yes</td>\n",
              "      <td>2016</td>\n",
              "      <td>9</td>\n",
              "      <td>27</td>\n",
              "      <td>Yes</td>\n",
              "    </tr>\n",
              "    <tr>\n",
              "      <th>...</th>\n",
              "      <td>...</td>\n",
              "      <td>...</td>\n",
              "      <td>...</td>\n",
              "      <td>...</td>\n",
              "      <td>...</td>\n",
              "      <td>...</td>\n",
              "      <td>...</td>\n",
              "      <td>...</td>\n",
              "      <td>...</td>\n",
              "      <td>...</td>\n",
              "      <td>...</td>\n",
              "      <td>...</td>\n",
              "      <td>...</td>\n",
              "      <td>...</td>\n",
              "      <td>...</td>\n",
              "      <td>...</td>\n",
              "      <td>...</td>\n",
              "      <td>...</td>\n",
              "      <td>...</td>\n",
              "      <td>...</td>\n",
              "      <td>...</td>\n",
              "      <td>...</td>\n",
              "      <td>...</td>\n",
              "      <td>...</td>\n",
              "      <td>...</td>\n",
              "    </tr>\n",
              "    <tr>\n",
              "      <th>11764</th>\n",
              "      <td>CoffsHarbour</td>\n",
              "      <td>19.0</td>\n",
              "      <td>26.0</td>\n",
              "      <td>4.2</td>\n",
              "      <td>NaN</td>\n",
              "      <td>NaN</td>\n",
              "      <td>SE</td>\n",
              "      <td>22.0</td>\n",
              "      <td>SSW</td>\n",
              "      <td>ESE</td>\n",
              "      <td>11.0</td>\n",
              "      <td>13.0</td>\n",
              "      <td>91.0</td>\n",
              "      <td>75.0</td>\n",
              "      <td>1017.9</td>\n",
              "      <td>1014.2</td>\n",
              "      <td>8.0</td>\n",
              "      <td>NaN</td>\n",
              "      <td>21.0</td>\n",
              "      <td>26.0</td>\n",
              "      <td>Yes</td>\n",
              "      <td>2017</td>\n",
              "      <td>3</td>\n",
              "      <td>2</td>\n",
              "      <td>No</td>\n",
              "    </tr>\n",
              "    <tr>\n",
              "      <th>96694</th>\n",
              "      <td>Adelaide</td>\n",
              "      <td>11.7</td>\n",
              "      <td>25.5</td>\n",
              "      <td>0.0</td>\n",
              "      <td>NaN</td>\n",
              "      <td>NaN</td>\n",
              "      <td>N</td>\n",
              "      <td>31.0</td>\n",
              "      <td>NNE</td>\n",
              "      <td>WNW</td>\n",
              "      <td>13.0</td>\n",
              "      <td>17.0</td>\n",
              "      <td>31.0</td>\n",
              "      <td>34.0</td>\n",
              "      <td>1022.4</td>\n",
              "      <td>1018.3</td>\n",
              "      <td>NaN</td>\n",
              "      <td>NaN</td>\n",
              "      <td>18.3</td>\n",
              "      <td>24.9</td>\n",
              "      <td>No</td>\n",
              "      <td>2016</td>\n",
              "      <td>10</td>\n",
              "      <td>14</td>\n",
              "      <td>No</td>\n",
              "    </tr>\n",
              "    <tr>\n",
              "      <th>20023</th>\n",
              "      <td>NorahHead</td>\n",
              "      <td>15.7</td>\n",
              "      <td>20.3</td>\n",
              "      <td>5.6</td>\n",
              "      <td>NaN</td>\n",
              "      <td>NaN</td>\n",
              "      <td>S</td>\n",
              "      <td>54.0</td>\n",
              "      <td>WSW</td>\n",
              "      <td>S</td>\n",
              "      <td>13.0</td>\n",
              "      <td>24.0</td>\n",
              "      <td>96.0</td>\n",
              "      <td>84.0</td>\n",
              "      <td>1019.9</td>\n",
              "      <td>1019.6</td>\n",
              "      <td>NaN</td>\n",
              "      <td>NaN</td>\n",
              "      <td>16.0</td>\n",
              "      <td>18.3</td>\n",
              "      <td>Yes</td>\n",
              "      <td>2015</td>\n",
              "      <td>11</td>\n",
              "      <td>8</td>\n",
              "      <td>Yes</td>\n",
              "    </tr>\n",
              "    <tr>\n",
              "      <th>116928</th>\n",
              "      <td>PerthAirport</td>\n",
              "      <td>6.6</td>\n",
              "      <td>23.0</td>\n",
              "      <td>0.0</td>\n",
              "      <td>2.0</td>\n",
              "      <td>7.7</td>\n",
              "      <td>SW</td>\n",
              "      <td>31.0</td>\n",
              "      <td>SW</td>\n",
              "      <td>SSW</td>\n",
              "      <td>2.0</td>\n",
              "      <td>13.0</td>\n",
              "      <td>78.0</td>\n",
              "      <td>46.0</td>\n",
              "      <td>1028.8</td>\n",
              "      <td>1026.2</td>\n",
              "      <td>1.0</td>\n",
              "      <td>3.0</td>\n",
              "      <td>15.1</td>\n",
              "      <td>21.6</td>\n",
              "      <td>No</td>\n",
              "      <td>2015</td>\n",
              "      <td>5</td>\n",
              "      <td>9</td>\n",
              "      <td>No</td>\n",
              "    </tr>\n",
              "    <tr>\n",
              "      <th>129293</th>\n",
              "      <td>Hobart</td>\n",
              "      <td>11.5</td>\n",
              "      <td>15.6</td>\n",
              "      <td>0.6</td>\n",
              "      <td>4.8</td>\n",
              "      <td>0.3</td>\n",
              "      <td>SSE</td>\n",
              "      <td>44.0</td>\n",
              "      <td>SSE</td>\n",
              "      <td>SSE</td>\n",
              "      <td>9.0</td>\n",
              "      <td>24.0</td>\n",
              "      <td>76.0</td>\n",
              "      <td>89.0</td>\n",
              "      <td>1023.6</td>\n",
              "      <td>1024.2</td>\n",
              "      <td>8.0</td>\n",
              "      <td>8.0</td>\n",
              "      <td>13.0</td>\n",
              "      <td>12.1</td>\n",
              "      <td>No</td>\n",
              "      <td>2015</td>\n",
              "      <td>12</td>\n",
              "      <td>5</td>\n",
              "      <td>No</td>\n",
              "    </tr>\n",
              "  </tbody>\n",
              "</table>\n",
              "<p>34564 rows × 25 columns</p>\n",
              "</div>"
            ],
            "text/plain": [
              "            Location  MinTemp  MaxTemp  Rainfall  ...  Year  Month Day  RainTomorrow\n",
              "67875      Melbourne      6.5     13.0       1.2  ...  2016      8  25            No\n",
              "120610         Perth      7.0     19.2       0.0  ...  2016      9   9            No\n",
              "138536        Darwin     28.1     35.7       0.0  ...  2015     11  26           Yes\n",
              "44146     Wollongong     19.9     24.0       0.0  ...  2016     11  23           Yes\n",
              "135658  AliceSprings     14.0     24.0       3.6  ...  2016      9  27           Yes\n",
              "...              ...      ...      ...       ...  ...   ...    ...  ..           ...\n",
              "11764   CoffsHarbour     19.0     26.0       4.2  ...  2017      3   2            No\n",
              "96694       Adelaide     11.7     25.5       0.0  ...  2016     10  14            No\n",
              "20023      NorahHead     15.7     20.3       5.6  ...  2015     11   8           Yes\n",
              "116928  PerthAirport      6.6     23.0       0.0  ...  2015      5   9            No\n",
              "129293        Hobart     11.5     15.6       0.6  ...  2015     12   5            No\n",
              "\n",
              "[34564 rows x 25 columns]"
            ]
          },
          "metadata": {
            "tags": []
          },
          "execution_count": 9
        }
      ]
    },
    {
      "cell_type": "code",
      "metadata": {
        "id": "rHPWn8TdJ1qQ",
        "colab_type": "code",
        "outputId": "eae57ad3-086c-4c09-9457-f70a0f78ff74",
        "colab": {
          "base_uri": "https://localhost:8080/",
          "height": 221
        }
      },
      "source": [
        "# cap the outliers in Training set\n",
        "\n",
        "Q1 = temp_df.quantile(0.25)\n",
        "Q3 = temp_df.quantile(0.75)\n",
        "IQR = Q3 - Q1\n",
        "\n",
        "lower_cap = Q1 - 1.5*IQR\n",
        "upper_cap = Q3 + 1.5*IQR\n",
        "\n",
        "features = lower_cap.index.values\n",
        "\n",
        "for feature in features :\n",
        "  temp_df[feature] = np.where(temp_df[feature]<lower_cap[feature],lower_cap[feature], temp_df[feature])\n",
        "  temp_df[feature] = np.where(temp_df[feature]>upper_cap[feature],upper_cap[feature], temp_df[feature])"
      ],
      "execution_count": 10,
      "outputs": [
        {
          "output_type": "stream",
          "text": [
            "/usr/local/lib/python3.6/dist-packages/ipykernel_launcher.py:13: SettingWithCopyWarning: \n",
            "A value is trying to be set on a copy of a slice from a DataFrame.\n",
            "Try using .loc[row_indexer,col_indexer] = value instead\n",
            "\n",
            "See the caveats in the documentation: https://pandas.pydata.org/pandas-docs/stable/user_guide/indexing.html#returning-a-view-versus-a-copy\n",
            "  del sys.path[0]\n",
            "/usr/local/lib/python3.6/dist-packages/ipykernel_launcher.py:14: SettingWithCopyWarning: \n",
            "A value is trying to be set on a copy of a slice from a DataFrame.\n",
            "Try using .loc[row_indexer,col_indexer] = value instead\n",
            "\n",
            "See the caveats in the documentation: https://pandas.pydata.org/pandas-docs/stable/user_guide/indexing.html#returning-a-view-versus-a-copy\n",
            "  \n"
          ],
          "name": "stderr"
        }
      ]
    },
    {
      "cell_type": "code",
      "metadata": {
        "id": "fLAsTLKALc8o",
        "colab_type": "code",
        "colab": {}
      },
      "source": [
        "# get y_train and X_train from temp_df\n",
        "X_train = temp_df.drop(['RainTomorrow'], axis=1)\n",
        "y_train = temp_df['RainTomorrow']"
      ],
      "execution_count": 0,
      "outputs": []
    },
    {
      "cell_type": "code",
      "metadata": {
        "id": "gz9ymAzGYeit",
        "colab_type": "code",
        "outputId": "3f8f5c10-8a27-4af2-b0ef-6286b26bfee7",
        "colab": {
          "base_uri": "https://localhost:8080/",
          "height": 221
        }
      },
      "source": [
        "# cap outliers on the test set\n",
        "for feature in features :\n",
        "  X_test[feature] = np.where(X_test[feature]<lower_cap[feature],lower_cap[feature], X_test[feature])\n",
        "  X_test[feature] = np.where(X_test[feature]>upper_cap[feature],upper_cap[feature], X_test[feature])"
      ],
      "execution_count": 12,
      "outputs": [
        {
          "output_type": "stream",
          "text": [
            "/usr/local/lib/python3.6/dist-packages/ipykernel_launcher.py:3: SettingWithCopyWarning: \n",
            "A value is trying to be set on a copy of a slice from a DataFrame.\n",
            "Try using .loc[row_indexer,col_indexer] = value instead\n",
            "\n",
            "See the caveats in the documentation: https://pandas.pydata.org/pandas-docs/stable/user_guide/indexing.html#returning-a-view-versus-a-copy\n",
            "  This is separate from the ipykernel package so we can avoid doing imports until\n",
            "/usr/local/lib/python3.6/dist-packages/ipykernel_launcher.py:4: SettingWithCopyWarning: \n",
            "A value is trying to be set on a copy of a slice from a DataFrame.\n",
            "Try using .loc[row_indexer,col_indexer] = value instead\n",
            "\n",
            "See the caveats in the documentation: https://pandas.pydata.org/pandas-docs/stable/user_guide/indexing.html#returning-a-view-versus-a-copy\n",
            "  after removing the cwd from sys.path.\n"
          ],
          "name": "stderr"
        }
      ]
    },
    {
      "cell_type": "markdown",
      "metadata": {
        "id": "N7a_bLnRZz7O",
        "colab_type": "text"
      },
      "source": [
        "# **Create Model Pipeline**"
      ]
    },
    {
      "cell_type": "markdown",
      "metadata": {
        "id": "T8gTLxR-CR9G",
        "colab_type": "text"
      },
      "source": [
        "**Create Preprocessor : ColumnTransformer of numerical and categorical features**"
      ]
    },
    {
      "cell_type": "code",
      "metadata": {
        "id": "gTT3lZG8Cxg9",
        "colab_type": "code",
        "colab": {}
      },
      "source": [
        "numerical_features = [x for x in X.columns if df[x].dtype != 'object']\n",
        "\n",
        "numeric_transformer = Pipeline(steps=[\n",
        "          ('imputer', SimpleImputer(strategy='median')),\n",
        "          ('scaler', MinMaxScaler())\n",
        "])\n",
        "\n",
        "categorical_features = [x for x in X.columns if df[x].dtype == 'object']\n",
        "\n",
        "categorical_transformer = Pipeline(steps=[\n",
        "          ('imputer', SimpleImputer(strategy='most_frequent')),\n",
        "          ('onehot', OneHotEncoder(handle_unknown='ignore'))\n",
        "])\n",
        "\n",
        "preprocessor = ColumnTransformer(\n",
        "    transformers=[\n",
        "          ('num', numeric_transformer, numerical_features),\n",
        "          ('cat', categorical_transformer, categorical_features)\n",
        "    ]\n",
        ")"
      ],
      "execution_count": 0,
      "outputs": []
    },
    {
      "cell_type": "markdown",
      "metadata": {
        "id": "vPVvzPIUSbfy",
        "colab_type": "text"
      },
      "source": [
        "**Create model**"
      ]
    },
    {
      "cell_type": "code",
      "metadata": {
        "id": "QMg6-FaGSQj6",
        "colab_type": "code",
        "colab": {}
      },
      "source": [
        "from sklearn.tree import DecisionTreeClassifier\n",
        "model = DecisionTreeClassifier(criterion = 'entropy')"
      ],
      "execution_count": 0,
      "outputs": []
    },
    {
      "cell_type": "markdown",
      "metadata": {
        "id": "gY_lpfneSrHi",
        "colab_type": "text"
      },
      "source": [
        "**Create Pipeline**"
      ]
    },
    {
      "cell_type": "code",
      "metadata": {
        "id": "HJOsYV7mSqkv",
        "colab_type": "code",
        "colab": {}
      },
      "source": [
        "clf = Pipeline(steps=[\n",
        "      ('preprocessor', preprocessor),\n",
        "      ('model', model)\n",
        "])"
      ],
      "execution_count": 0,
      "outputs": []
    },
    {
      "cell_type": "markdown",
      "metadata": {
        "colab_type": "text",
        "id": "r8Sj1iG9Ko0q"
      },
      "source": [
        "# **Cross Validation on Training set**"
      ]
    },
    {
      "cell_type": "code",
      "metadata": {
        "colab_type": "code",
        "id": "a19IDMNwKo0t",
        "colab": {
          "base_uri": "https://localhost:8080/",
          "height": 85
        },
        "outputId": "2a43c68e-d1aa-438e-e8a5-f46978d1ffa6"
      },
      "source": [
        "accuracy = cross_val_score(clf,X_train,y_train,cv=10)\n",
        "print('accuracy : ', accuracy)\n",
        "print('mean : ', accuracy.mean())\n",
        "print('std : ', accuracy.std())"
      ],
      "execution_count": 16,
      "outputs": [
        {
          "output_type": "stream",
          "text": [
            "accuracy :  [0.78680937 0.78247035 0.78160255 0.7856523  0.7884838  0.79021991\n",
            " 0.7818287  0.77922454 0.78703704 0.79108796]\n",
            "mean :  0.7854416511988558\n",
            "std :  0.0037907883929400713\n"
          ],
          "name": "stdout"
        }
      ]
    },
    {
      "cell_type": "markdown",
      "metadata": {
        "colab_type": "text",
        "id": "uuBDr_guKo0x"
      },
      "source": [
        "Note : low bias and very low variance"
      ]
    },
    {
      "cell_type": "markdown",
      "metadata": {
        "colab_type": "text",
        "id": "DOpQv9dQKo0x"
      },
      "source": [
        "# **Training and Test sets**"
      ]
    },
    {
      "cell_type": "code",
      "metadata": {
        "colab_type": "code",
        "id": "WmaZx-SOKo0y",
        "colab": {
          "base_uri": "https://localhost:8080/",
          "height": 391
        },
        "outputId": "48ee2fa0-59d9-4dcb-b608-9470c96521d7"
      },
      "source": [
        "# Make sure your X_test is capped before running this cell\n",
        "\n",
        "clf.fit(X_train,y_train)\n",
        "y_pred = clf.predict(X_test)\n",
        "\n",
        "print('\\n\\nTraining and Test Sets result')\n",
        "print('\\naccuracy score : ', accuracy_score(y_test,y_pred))\n",
        "print('\\nconfusion matrix : \\n', confusion_matrix(y_test, y_pred))\n",
        "print('\\nclassification report : \\n', classification_report(y_test,y_pred))\n",
        "\n",
        "print('Training set score : ',clf.score(X_train,y_train))\n",
        "print('Test set score : ',clf.score(X_test,y_test))"
      ],
      "execution_count": 17,
      "outputs": [
        {
          "output_type": "stream",
          "text": [
            "\n",
            "\n",
            "Training and Test Sets result\n",
            "\n",
            "accuracy score :  0.7901863210276588\n",
            "\n",
            "confusion matrix : \n",
            " [[5830  943]\n",
            " [ 870  998]]\n",
            "\n",
            "classification report : \n",
            "               precision    recall  f1-score   support\n",
            "\n",
            "          No       0.87      0.86      0.87      6773\n",
            "         Yes       0.51      0.53      0.52      1868\n",
            "\n",
            "    accuracy                           0.79      8641\n",
            "   macro avg       0.69      0.70      0.69      8641\n",
            "weighted avg       0.79      0.79      0.79      8641\n",
            "\n",
            "Training set score :  1.0\n",
            "Test set score :  0.7901863210276588\n"
          ],
          "name": "stdout"
        }
      ]
    },
    {
      "cell_type": "markdown",
      "metadata": {
        "colab_type": "text",
        "id": "QjGBwLn3Ko02"
      },
      "source": [
        "Note : Overfitting."
      ]
    },
    {
      "cell_type": "markdown",
      "metadata": {
        "id": "Gx48-JvXGgoO",
        "colab_type": "text"
      },
      "source": [
        "# **Improve the model with GridSearchCV**"
      ]
    },
    {
      "cell_type": "code",
      "metadata": {
        "id": "-TyJuiG9Gs-y",
        "colab_type": "code",
        "colab": {
          "base_uri": "https://localhost:8080/",
          "height": 51
        },
        "outputId": "0a9dfa12-09ee-4e8b-8a5b-95607b94d4ce"
      },
      "source": [
        "# set parameter grid\n",
        "param_grid = {\n",
        "    'model__splitter':['best','random'],\n",
        "    'model__max_depth':[5,10,15,20,25],\n",
        "    'model__max_features':['auto','sqrt','log2']\n",
        "}\n",
        "\n",
        "# GridSearchCV\n",
        "search = GridSearchCV(clf, param_grid, n_jobs=-1)\n",
        "search.fit(X_train, y_train)\n",
        "\n",
        "print(\"Best score :\",search.best_score_)\n",
        "print(\"Best parameter :\",search.best_params_)"
      ],
      "execution_count": 18,
      "outputs": [
        {
          "output_type": "stream",
          "text": [
            "Best score : 0.8097441255672353\n",
            "Best parameter : {'model__max_depth': 10, 'model__max_features': 'auto', 'model__splitter': 'best'}\n"
          ],
          "name": "stdout"
        }
      ]
    },
    {
      "cell_type": "markdown",
      "metadata": {
        "colab_type": "text",
        "id": "MD0sMkIkGQAZ"
      },
      "source": [
        "**Create Preprocessor : ColumnTransformer of numerical and categorical features**"
      ]
    },
    {
      "cell_type": "code",
      "metadata": {
        "colab_type": "code",
        "id": "SMwxJouhGQAb",
        "colab": {}
      },
      "source": [
        "numerical_features = [x for x in X.columns if df[x].dtype != 'object']\n",
        "\n",
        "numeric_transformer = Pipeline(steps=[\n",
        "          ('imputer', SimpleImputer(strategy='median')),\n",
        "          ('scaler', MinMaxScaler())\n",
        "])\n",
        "\n",
        "categorical_features = [x for x in X.columns if df[x].dtype == 'object']\n",
        "\n",
        "categorical_transformer = Pipeline(steps=[\n",
        "          ('imputer', SimpleImputer(strategy='most_frequent')),\n",
        "          ('onehot', OneHotEncoder(handle_unknown='ignore'))\n",
        "])\n",
        "\n",
        "preprocessor = ColumnTransformer(\n",
        "    transformers=[\n",
        "          ('num', numeric_transformer, numerical_features),\n",
        "          ('cat', categorical_transformer, categorical_features)\n",
        "    ]\n",
        ")"
      ],
      "execution_count": 0,
      "outputs": []
    },
    {
      "cell_type": "markdown",
      "metadata": {
        "colab_type": "text",
        "id": "tLhJUIuYGQAi"
      },
      "source": [
        "**Create model**"
      ]
    },
    {
      "cell_type": "code",
      "metadata": {
        "colab_type": "code",
        "id": "DfAxMKVOGQAk",
        "colab": {}
      },
      "source": [
        "from sklearn.tree import DecisionTreeClassifier\n",
        "model = DecisionTreeClassifier(criterion = 'entropy', max_depth=10, max_features='auto', splitter='best')"
      ],
      "execution_count": 0,
      "outputs": []
    },
    {
      "cell_type": "markdown",
      "metadata": {
        "colab_type": "text",
        "id": "9DhOBbPeGQAo"
      },
      "source": [
        "**Create Pipeline**"
      ]
    },
    {
      "cell_type": "code",
      "metadata": {
        "colab_type": "code",
        "id": "X1FRwUEpGQAp",
        "colab": {}
      },
      "source": [
        "clf = Pipeline(steps=[\n",
        "      ('preprocessor', preprocessor),\n",
        "      ('model', model)\n",
        "])"
      ],
      "execution_count": 0,
      "outputs": []
    },
    {
      "cell_type": "markdown",
      "metadata": {
        "colab_type": "text",
        "id": "erWTnpmxJx6C"
      },
      "source": [
        "**Cross Validation on Training set**"
      ]
    },
    {
      "cell_type": "code",
      "metadata": {
        "colab_type": "code",
        "outputId": "6475ef1b-9ef1-4397-8e12-340aa2e3db8b",
        "id": "zmACydpPJx6E",
        "colab": {
          "base_uri": "https://localhost:8080/",
          "height": 85
        }
      },
      "source": [
        "accuracy = cross_val_score(clf,X_train,y_train,cv=10)\n",
        "print('accuracy : ', accuracy)\n",
        "print('mean : ', accuracy.mean())\n",
        "print('std : ', accuracy.std())"
      ],
      "execution_count": 22,
      "outputs": [
        {
          "output_type": "stream",
          "text": [
            "accuracy :  [0.80300839 0.82267862 0.81226497 0.81978594 0.80295139 0.80584491\n",
            " 0.80960648 0.80989583 0.80034722 0.81828704]\n",
            "mean :  0.8104670793425042\n",
            "std :  0.00733012784133786\n"
          ],
          "name": "stdout"
        }
      ]
    },
    {
      "cell_type": "markdown",
      "metadata": {
        "colab_type": "text",
        "id": "KKu86gHpJx6J"
      },
      "source": [
        "Note : low bias and low variance"
      ]
    },
    {
      "cell_type": "markdown",
      "metadata": {
        "colab_type": "text",
        "id": "dZjH876ZJx6J"
      },
      "source": [
        " **Training and Test sets**"
      ]
    },
    {
      "cell_type": "code",
      "metadata": {
        "colab_type": "code",
        "outputId": "b7d3fe39-4d25-4757-809f-5d736da92acd",
        "id": "fsBRpe95Jx6K",
        "colab": {
          "base_uri": "https://localhost:8080/",
          "height": 391
        }
      },
      "source": [
        "clf.fit(X_train,y_train)\n",
        "y_pred = clf.predict(X_test)\n",
        "\n",
        "print('\\n\\nTraining and Test Sets result')\n",
        "print('\\naccuracy score : ', accuracy_score(y_test,y_pred))\n",
        "print('\\nconfusion matrix : \\n', confusion_matrix(y_test, y_pred))\n",
        "print('\\nclassification report : \\n', classification_report(y_test,y_pred))\n",
        "\n",
        "print('Training set score : ',clf.score(X_train,y_train))\n",
        "print('Test set score : ',clf.score(X_test,y_test))"
      ],
      "execution_count": 23,
      "outputs": [
        {
          "output_type": "stream",
          "text": [
            "\n",
            "\n",
            "Training and Test Sets result\n",
            "\n",
            "accuracy score :  0.8150677004976276\n",
            "\n",
            "confusion matrix : \n",
            " [[6398  375]\n",
            " [1223  645]]\n",
            "\n",
            "classification report : \n",
            "               precision    recall  f1-score   support\n",
            "\n",
            "          No       0.84      0.94      0.89      6773\n",
            "         Yes       0.63      0.35      0.45      1868\n",
            "\n",
            "    accuracy                           0.82      8641\n",
            "   macro avg       0.74      0.64      0.67      8641\n",
            "weighted avg       0.79      0.82      0.79      8641\n",
            "\n",
            "Training set score :  0.8271322763569031\n",
            "Test set score :  0.8150677004976276\n"
          ],
          "name": "stdout"
        }
      ]
    },
    {
      "cell_type": "markdown",
      "metadata": {
        "colab_type": "text",
        "id": "NSSs5rKPJx6N"
      },
      "source": [
        "Note : the scores getting closer, No overfitting"
      ]
    }
  ]
}