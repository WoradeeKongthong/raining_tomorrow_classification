{
  "nbformat": 4,
  "nbformat_minor": 0,
  "metadata": {
    "colab": {
      "name": "05_Raining_KernelSVM.ipynb",
      "provenance": [],
      "toc_visible": true,
      "authorship_tag": "ABX9TyPJcFIG3YCWqjfY4IqvuIKC",
      "include_colab_link": true
    },
    "kernelspec": {
      "name": "python3",
      "display_name": "Python 3"
    }
  },
  "cells": [
    {
      "cell_type": "markdown",
      "metadata": {
        "id": "view-in-github",
        "colab_type": "text"
      },
      "source": [
        "<a href=\"https://colab.research.google.com/github/WoradeeKongthong/raining_tomorrow_classification/blob/master/05_Raining_KernelSVM.ipynb\" target=\"_parent\"><img src=\"https://colab.research.google.com/assets/colab-badge.svg\" alt=\"Open In Colab\"/></a>"
      ]
    },
    {
      "cell_type": "markdown",
      "metadata": {
        "id": "NzAQNizAP0nG",
        "colab_type": "text"
      },
      "source": [
        "Based on Feature Engineering in part 02  \n",
        "Outliers : I'll cap the outliers in X_train. And cap the outliers in X_test using the boundaries of X_train.  \n",
        "Missing values : I'll impute the missing values in categorical features with 'most frequent' value,  \n",
        "and impute the missing values in numerical features with median."
      ]
    },
    {
      "cell_type": "code",
      "metadata": {
        "id": "Zyn_b_XCxRkV",
        "colab_type": "code",
        "colab": {}
      },
      "source": [
        "# libraries\n",
        "import pandas as pd\n",
        "import numpy as np\n",
        "\n",
        "from sklearn.impute import SimpleImputer\n",
        "from sklearn.preprocessing import OneHotEncoder, StandardScaler, MinMaxScaler\n",
        "from sklearn.compose import ColumnTransformer, make_column_transformer\n",
        "from sklearn.pipeline import Pipeline\n",
        "\n",
        "from sklearn.model_selection import cross_val_score\n",
        "from sklearn.model_selection import train_test_split\n",
        "from sklearn.metrics import confusion_matrix, accuracy_score, classification_report"
      ],
      "execution_count": 0,
      "outputs": []
    },
    {
      "cell_type": "markdown",
      "metadata": {
        "id": "HbQH-UK5xWlL",
        "colab_type": "text"
      },
      "source": [
        "# **Data Set**"
      ]
    },
    {
      "cell_type": "code",
      "metadata": {
        "id": "UF6DT6FQxUxt",
        "colab_type": "code",
        "colab": {}
      },
      "source": [
        "df = pd.read_csv('https://raw.githubusercontent.com/WoradeeKongthong/raining_tomorrow_classification/master/weatherAUS.csv')"
      ],
      "execution_count": 0,
      "outputs": []
    },
    {
      "cell_type": "code",
      "metadata": {
        "id": "MPNHKHJ7xeWT",
        "colab_type": "code",
        "outputId": "482b593e-a569-4eb1-8b79-b4c99b82658a",
        "colab": {
          "base_uri": "https://localhost:8080/",
          "height": 544
        }
      },
      "source": [
        "df.info()"
      ],
      "execution_count": 6,
      "outputs": [
        {
          "output_type": "stream",
          "text": [
            "<class 'pandas.core.frame.DataFrame'>\n",
            "RangeIndex: 142193 entries, 0 to 142192\n",
            "Data columns (total 24 columns):\n",
            " #   Column         Non-Null Count   Dtype  \n",
            "---  ------         --------------   -----  \n",
            " 0   Date           142193 non-null  object \n",
            " 1   Location       142193 non-null  object \n",
            " 2   MinTemp        141556 non-null  float64\n",
            " 3   MaxTemp        141871 non-null  float64\n",
            " 4   Rainfall       140787 non-null  float64\n",
            " 5   Evaporation    81350 non-null   float64\n",
            " 6   Sunshine       74377 non-null   float64\n",
            " 7   WindGustDir    132863 non-null  object \n",
            " 8   WindGustSpeed  132923 non-null  float64\n",
            " 9   WindDir9am     132180 non-null  object \n",
            " 10  WindDir3pm     138415 non-null  object \n",
            " 11  WindSpeed9am   140845 non-null  float64\n",
            " 12  WindSpeed3pm   139563 non-null  float64\n",
            " 13  Humidity9am    140419 non-null  float64\n",
            " 14  Humidity3pm    138583 non-null  float64\n",
            " 15  Pressure9am    128179 non-null  float64\n",
            " 16  Pressure3pm    128212 non-null  float64\n",
            " 17  Cloud9am       88536 non-null   float64\n",
            " 18  Cloud3pm       85099 non-null   float64\n",
            " 19  Temp9am        141289 non-null  float64\n",
            " 20  Temp3pm        139467 non-null  float64\n",
            " 21  RainToday      140787 non-null  object \n",
            " 22  RISK_MM        142193 non-null  float64\n",
            " 23  RainTomorrow   142193 non-null  object \n",
            "dtypes: float64(17), object(7)\n",
            "memory usage: 26.0+ MB\n"
          ],
          "name": "stdout"
        }
      ]
    },
    {
      "cell_type": "code",
      "metadata": {
        "id": "zj7iJFs5yR4t",
        "colab_type": "code",
        "colab": {}
      },
      "source": [
        "# drop RISK_MM column (Recommendation from data description in Kaggle)\n",
        "df.drop(['RISK_MM'], axis = 1, inplace = True)\n",
        "\n",
        "# Extract Year, Month, Day from Date column\n",
        "df['Date'] = pd.to_datetime(df['Date'])\n",
        "df['Year'] = df['Date'].dt.year\n",
        "df['Month'] = df['Date'].dt.month\n",
        "df['Day'] = df['Date'].dt.day\n",
        "\n",
        "# drop Date column\n",
        "df.drop(['Date'], axis = 1, inplace = True)\n",
        "\n",
        "# select year 2016-2017 to train the model\n",
        "df = df[df['Year'] > 2015]"
      ],
      "execution_count": 0,
      "outputs": []
    },
    {
      "cell_type": "code",
      "metadata": {
        "id": "wib900L2yWUs",
        "colab_type": "code",
        "outputId": "fdaee5e1-b2d8-440e-9a43-27c230481c34",
        "colab": {
          "base_uri": "https://localhost:8080/",
          "height": 561
        }
      },
      "source": [
        "df.info()"
      ],
      "execution_count": 8,
      "outputs": [
        {
          "output_type": "stream",
          "text": [
            "<class 'pandas.core.frame.DataFrame'>\n",
            "Int64Index: 25974 entries, 2474 to 142192\n",
            "Data columns (total 25 columns):\n",
            " #   Column         Non-Null Count  Dtype  \n",
            "---  ------         --------------  -----  \n",
            " 0   Location       25974 non-null  object \n",
            " 1   MinTemp        25814 non-null  float64\n",
            " 2   MaxTemp        25881 non-null  float64\n",
            " 3   Rainfall       25710 non-null  float64\n",
            " 4   Evaporation    10704 non-null  float64\n",
            " 5   Sunshine       8019 non-null   float64\n",
            " 6   WindGustDir    24514 non-null  object \n",
            " 7   WindGustSpeed  24514 non-null  float64\n",
            " 8   WindDir9am     24398 non-null  object \n",
            " 9   WindDir3pm     24746 non-null  object \n",
            " 10  WindSpeed9am   25841 non-null  float64\n",
            " 11  WindSpeed3pm   24854 non-null  float64\n",
            " 12  Humidity9am    25686 non-null  float64\n",
            " 13  Humidity3pm    24218 non-null  float64\n",
            " 14  Pressure9am    23294 non-null  float64\n",
            " 15  Pressure3pm    23289 non-null  float64\n",
            " 16  Cloud9am       14674 non-null  float64\n",
            " 17  Cloud3pm       12665 non-null  float64\n",
            " 18  Temp9am        25884 non-null  float64\n",
            " 19  Temp3pm        24389 non-null  float64\n",
            " 20  RainToday      25710 non-null  object \n",
            " 21  RainTomorrow   25974 non-null  object \n",
            " 22  Year           25974 non-null  int64  \n",
            " 23  Month          25974 non-null  int64  \n",
            " 24  Day            25974 non-null  int64  \n",
            "dtypes: float64(16), int64(3), object(6)\n",
            "memory usage: 5.2+ MB\n"
          ],
          "name": "stdout"
        }
      ]
    },
    {
      "cell_type": "code",
      "metadata": {
        "id": "DyVUietnBKdC",
        "colab_type": "code",
        "colab": {}
      },
      "source": [
        "X = df.drop(['RainTomorrow'], axis=1)\n",
        "y = df['RainTomorrow']"
      ],
      "execution_count": 0,
      "outputs": []
    },
    {
      "cell_type": "code",
      "metadata": {
        "id": "6i2T_KdUJl_Q",
        "colab_type": "code",
        "colab": {}
      },
      "source": [
        "X_train, X_test, y_train, y_test = train_test_split(X,y,test_size=0.2)"
      ],
      "execution_count": 0,
      "outputs": []
    },
    {
      "cell_type": "code",
      "metadata": {
        "id": "siD4HoCqJ10U",
        "colab_type": "code",
        "outputId": "bf62ce58-dfe9-4f3a-f73a-fcbd0f60cecb",
        "colab": {
          "base_uri": "https://localhost:8080/",
          "height": 139
        }
      },
      "source": [
        "# create temp_df to combine X_train and y_train and cap the outliers\n",
        "temp_df = X_train\n",
        "temp_df['RainTomorrow'] = y_train"
      ],
      "execution_count": 11,
      "outputs": [
        {
          "output_type": "stream",
          "text": [
            "/usr/local/lib/python3.6/dist-packages/ipykernel_launcher.py:3: SettingWithCopyWarning: \n",
            "A value is trying to be set on a copy of a slice from a DataFrame.\n",
            "Try using .loc[row_indexer,col_indexer] = value instead\n",
            "\n",
            "See the caveats in the documentation: https://pandas.pydata.org/pandas-docs/stable/user_guide/indexing.html#returning-a-view-versus-a-copy\n",
            "  This is separate from the ipykernel package so we can avoid doing imports until\n"
          ],
          "name": "stderr"
        }
      ]
    },
    {
      "cell_type": "code",
      "metadata": {
        "id": "1bmia_JVYCQ2",
        "colab_type": "code",
        "outputId": "2e48a8fb-dda4-402a-9ee5-eb68de7125a9",
        "colab": {
          "base_uri": "https://localhost:8080/",
          "height": 439
        }
      },
      "source": [
        "temp_df"
      ],
      "execution_count": 12,
      "outputs": [
        {
          "output_type": "execute_result",
          "data": {
            "text/html": [
              "<div>\n",
              "<style scoped>\n",
              "    .dataframe tbody tr th:only-of-type {\n",
              "        vertical-align: middle;\n",
              "    }\n",
              "\n",
              "    .dataframe tbody tr th {\n",
              "        vertical-align: top;\n",
              "    }\n",
              "\n",
              "    .dataframe thead th {\n",
              "        text-align: right;\n",
              "    }\n",
              "</style>\n",
              "<table border=\"1\" class=\"dataframe\">\n",
              "  <thead>\n",
              "    <tr style=\"text-align: right;\">\n",
              "      <th></th>\n",
              "      <th>Location</th>\n",
              "      <th>MinTemp</th>\n",
              "      <th>MaxTemp</th>\n",
              "      <th>Rainfall</th>\n",
              "      <th>Evaporation</th>\n",
              "      <th>Sunshine</th>\n",
              "      <th>WindGustDir</th>\n",
              "      <th>WindGustSpeed</th>\n",
              "      <th>WindDir9am</th>\n",
              "      <th>WindDir3pm</th>\n",
              "      <th>WindSpeed9am</th>\n",
              "      <th>WindSpeed3pm</th>\n",
              "      <th>Humidity9am</th>\n",
              "      <th>Humidity3pm</th>\n",
              "      <th>Pressure9am</th>\n",
              "      <th>Pressure3pm</th>\n",
              "      <th>Cloud9am</th>\n",
              "      <th>Cloud3pm</th>\n",
              "      <th>Temp9am</th>\n",
              "      <th>Temp3pm</th>\n",
              "      <th>RainToday</th>\n",
              "      <th>Year</th>\n",
              "      <th>Month</th>\n",
              "      <th>Day</th>\n",
              "      <th>RainTomorrow</th>\n",
              "    </tr>\n",
              "  </thead>\n",
              "  <tbody>\n",
              "    <tr>\n",
              "      <th>129742</th>\n",
              "      <td>Hobart</td>\n",
              "      <td>9.7</td>\n",
              "      <td>24.1</td>\n",
              "      <td>0.0</td>\n",
              "      <td>4.0</td>\n",
              "      <td>11.5</td>\n",
              "      <td>SE</td>\n",
              "      <td>33.0</td>\n",
              "      <td>NNW</td>\n",
              "      <td>ESE</td>\n",
              "      <td>17.0</td>\n",
              "      <td>20.0</td>\n",
              "      <td>62.0</td>\n",
              "      <td>45.0</td>\n",
              "      <td>1026.1</td>\n",
              "      <td>1024.1</td>\n",
              "      <td>3.0</td>\n",
              "      <td>4.0</td>\n",
              "      <td>13.7</td>\n",
              "      <td>21.3</td>\n",
              "      <td>No</td>\n",
              "      <td>2017</td>\n",
              "      <td>2</td>\n",
              "      <td>26</td>\n",
              "      <td>No</td>\n",
              "    </tr>\n",
              "    <tr>\n",
              "      <th>126488</th>\n",
              "      <td>Walpole</td>\n",
              "      <td>10.9</td>\n",
              "      <td>21.5</td>\n",
              "      <td>0.0</td>\n",
              "      <td>NaN</td>\n",
              "      <td>NaN</td>\n",
              "      <td>WSW</td>\n",
              "      <td>39.0</td>\n",
              "      <td>W</td>\n",
              "      <td>SW</td>\n",
              "      <td>17.0</td>\n",
              "      <td>22.0</td>\n",
              "      <td>61.0</td>\n",
              "      <td>64.0</td>\n",
              "      <td>1012.6</td>\n",
              "      <td>1013.2</td>\n",
              "      <td>NaN</td>\n",
              "      <td>NaN</td>\n",
              "      <td>19.0</td>\n",
              "      <td>18.9</td>\n",
              "      <td>No</td>\n",
              "      <td>2016</td>\n",
              "      <td>12</td>\n",
              "      <td>18</td>\n",
              "      <td>No</td>\n",
              "    </tr>\n",
              "    <tr>\n",
              "      <th>138741</th>\n",
              "      <td>Darwin</td>\n",
              "      <td>22.6</td>\n",
              "      <td>32.6</td>\n",
              "      <td>0.0</td>\n",
              "      <td>5.4</td>\n",
              "      <td>9.2</td>\n",
              "      <td>N</td>\n",
              "      <td>28.0</td>\n",
              "      <td>SSE</td>\n",
              "      <td>NNW</td>\n",
              "      <td>15.0</td>\n",
              "      <td>19.0</td>\n",
              "      <td>75.0</td>\n",
              "      <td>54.0</td>\n",
              "      <td>1012.7</td>\n",
              "      <td>1008.4</td>\n",
              "      <td>1.0</td>\n",
              "      <td>3.0</td>\n",
              "      <td>26.3</td>\n",
              "      <td>31.6</td>\n",
              "      <td>No</td>\n",
              "      <td>2016</td>\n",
              "      <td>6</td>\n",
              "      <td>18</td>\n",
              "      <td>No</td>\n",
              "    </tr>\n",
              "    <tr>\n",
              "      <th>50348</th>\n",
              "      <td>Tuggeranong</td>\n",
              "      <td>13.1</td>\n",
              "      <td>23.2</td>\n",
              "      <td>0.6</td>\n",
              "      <td>NaN</td>\n",
              "      <td>NaN</td>\n",
              "      <td>WNW</td>\n",
              "      <td>28.0</td>\n",
              "      <td>NNW</td>\n",
              "      <td>NW</td>\n",
              "      <td>9.0</td>\n",
              "      <td>15.0</td>\n",
              "      <td>89.0</td>\n",
              "      <td>52.0</td>\n",
              "      <td>1019.2</td>\n",
              "      <td>1015.9</td>\n",
              "      <td>NaN</td>\n",
              "      <td>NaN</td>\n",
              "      <td>17.0</td>\n",
              "      <td>22.0</td>\n",
              "      <td>No</td>\n",
              "      <td>2016</td>\n",
              "      <td>4</td>\n",
              "      <td>30</td>\n",
              "      <td>Yes</td>\n",
              "    </tr>\n",
              "    <tr>\n",
              "      <th>96569</th>\n",
              "      <td>Adelaide</td>\n",
              "      <td>7.6</td>\n",
              "      <td>16.1</td>\n",
              "      <td>1.8</td>\n",
              "      <td>NaN</td>\n",
              "      <td>NaN</td>\n",
              "      <td>SW</td>\n",
              "      <td>35.0</td>\n",
              "      <td>NaN</td>\n",
              "      <td>S</td>\n",
              "      <td>0.0</td>\n",
              "      <td>9.0</td>\n",
              "      <td>77.0</td>\n",
              "      <td>57.0</td>\n",
              "      <td>1030.6</td>\n",
              "      <td>1031.2</td>\n",
              "      <td>NaN</td>\n",
              "      <td>NaN</td>\n",
              "      <td>12.3</td>\n",
              "      <td>15.4</td>\n",
              "      <td>Yes</td>\n",
              "      <td>2016</td>\n",
              "      <td>6</td>\n",
              "      <td>11</td>\n",
              "      <td>No</td>\n",
              "    </tr>\n",
              "    <tr>\n",
              "      <th>...</th>\n",
              "      <td>...</td>\n",
              "      <td>...</td>\n",
              "      <td>...</td>\n",
              "      <td>...</td>\n",
              "      <td>...</td>\n",
              "      <td>...</td>\n",
              "      <td>...</td>\n",
              "      <td>...</td>\n",
              "      <td>...</td>\n",
              "      <td>...</td>\n",
              "      <td>...</td>\n",
              "      <td>...</td>\n",
              "      <td>...</td>\n",
              "      <td>...</td>\n",
              "      <td>...</td>\n",
              "      <td>...</td>\n",
              "      <td>...</td>\n",
              "      <td>...</td>\n",
              "      <td>...</td>\n",
              "      <td>...</td>\n",
              "      <td>...</td>\n",
              "      <td>...</td>\n",
              "      <td>...</td>\n",
              "      <td>...</td>\n",
              "      <td>...</td>\n",
              "    </tr>\n",
              "    <tr>\n",
              "      <th>117452</th>\n",
              "      <td>PerthAirport</td>\n",
              "      <td>13.5</td>\n",
              "      <td>20.8</td>\n",
              "      <td>0.8</td>\n",
              "      <td>3.4</td>\n",
              "      <td>8.6</td>\n",
              "      <td>W</td>\n",
              "      <td>50.0</td>\n",
              "      <td>W</td>\n",
              "      <td>WNW</td>\n",
              "      <td>28.0</td>\n",
              "      <td>30.0</td>\n",
              "      <td>64.0</td>\n",
              "      <td>48.0</td>\n",
              "      <td>1012.3</td>\n",
              "      <td>1010.9</td>\n",
              "      <td>7.0</td>\n",
              "      <td>7.0</td>\n",
              "      <td>18.3</td>\n",
              "      <td>19.3</td>\n",
              "      <td>No</td>\n",
              "      <td>2016</td>\n",
              "      <td>10</td>\n",
              "      <td>14</td>\n",
              "      <td>Yes</td>\n",
              "    </tr>\n",
              "    <tr>\n",
              "      <th>32502</th>\n",
              "      <td>Sydney</td>\n",
              "      <td>7.3</td>\n",
              "      <td>18.5</td>\n",
              "      <td>0.0</td>\n",
              "      <td>4.0</td>\n",
              "      <td>10.1</td>\n",
              "      <td>WSW</td>\n",
              "      <td>50.0</td>\n",
              "      <td>W</td>\n",
              "      <td>WNW</td>\n",
              "      <td>24.0</td>\n",
              "      <td>11.0</td>\n",
              "      <td>61.0</td>\n",
              "      <td>34.0</td>\n",
              "      <td>1023.0</td>\n",
              "      <td>1018.0</td>\n",
              "      <td>1.0</td>\n",
              "      <td>2.0</td>\n",
              "      <td>9.8</td>\n",
              "      <td>17.6</td>\n",
              "      <td>No</td>\n",
              "      <td>2016</td>\n",
              "      <td>7</td>\n",
              "      <td>29</td>\n",
              "      <td>No</td>\n",
              "    </tr>\n",
              "    <tr>\n",
              "      <th>99593</th>\n",
              "      <td>MountGambier</td>\n",
              "      <td>7.9</td>\n",
              "      <td>11.5</td>\n",
              "      <td>0.0</td>\n",
              "      <td>NaN</td>\n",
              "      <td>NaN</td>\n",
              "      <td>NE</td>\n",
              "      <td>30.0</td>\n",
              "      <td>N</td>\n",
              "      <td>NE</td>\n",
              "      <td>9.0</td>\n",
              "      <td>20.0</td>\n",
              "      <td>73.0</td>\n",
              "      <td>64.0</td>\n",
              "      <td>1021.3</td>\n",
              "      <td>1020.5</td>\n",
              "      <td>8.0</td>\n",
              "      <td>2.0</td>\n",
              "      <td>9.4</td>\n",
              "      <td>9.5</td>\n",
              "      <td>No</td>\n",
              "      <td>2016</td>\n",
              "      <td>5</td>\n",
              "      <td>29</td>\n",
              "      <td>No</td>\n",
              "    </tr>\n",
              "    <tr>\n",
              "      <th>53456</th>\n",
              "      <td>MountGinini</td>\n",
              "      <td>11.1</td>\n",
              "      <td>22.2</td>\n",
              "      <td>0.0</td>\n",
              "      <td>NaN</td>\n",
              "      <td>NaN</td>\n",
              "      <td>ENE</td>\n",
              "      <td>43.0</td>\n",
              "      <td>WSW</td>\n",
              "      <td>WNW</td>\n",
              "      <td>7.0</td>\n",
              "      <td>13.0</td>\n",
              "      <td>43.0</td>\n",
              "      <td>40.0</td>\n",
              "      <td>NaN</td>\n",
              "      <td>NaN</td>\n",
              "      <td>NaN</td>\n",
              "      <td>NaN</td>\n",
              "      <td>17.5</td>\n",
              "      <td>21.6</td>\n",
              "      <td>No</td>\n",
              "      <td>2016</td>\n",
              "      <td>11</td>\n",
              "      <td>20</td>\n",
              "      <td>Yes</td>\n",
              "    </tr>\n",
              "    <tr>\n",
              "      <th>47580</th>\n",
              "      <td>Canberra</td>\n",
              "      <td>13.5</td>\n",
              "      <td>27.9</td>\n",
              "      <td>11.4</td>\n",
              "      <td>NaN</td>\n",
              "      <td>NaN</td>\n",
              "      <td>W</td>\n",
              "      <td>69.0</td>\n",
              "      <td>NW</td>\n",
              "      <td>WNW</td>\n",
              "      <td>28.0</td>\n",
              "      <td>39.0</td>\n",
              "      <td>81.0</td>\n",
              "      <td>34.0</td>\n",
              "      <td>1007.2</td>\n",
              "      <td>1005.3</td>\n",
              "      <td>1.0</td>\n",
              "      <td>2.0</td>\n",
              "      <td>19.8</td>\n",
              "      <td>25.6</td>\n",
              "      <td>Yes</td>\n",
              "      <td>2016</td>\n",
              "      <td>12</td>\n",
              "      <td>17</td>\n",
              "      <td>No</td>\n",
              "    </tr>\n",
              "  </tbody>\n",
              "</table>\n",
              "<p>20779 rows × 25 columns</p>\n",
              "</div>"
            ],
            "text/plain": [
              "            Location  MinTemp  MaxTemp  Rainfall  ...  Year  Month Day  RainTomorrow\n",
              "129742        Hobart      9.7     24.1       0.0  ...  2017      2  26            No\n",
              "126488       Walpole     10.9     21.5       0.0  ...  2016     12  18            No\n",
              "138741        Darwin     22.6     32.6       0.0  ...  2016      6  18            No\n",
              "50348    Tuggeranong     13.1     23.2       0.6  ...  2016      4  30           Yes\n",
              "96569       Adelaide      7.6     16.1       1.8  ...  2016      6  11            No\n",
              "...              ...      ...      ...       ...  ...   ...    ...  ..           ...\n",
              "117452  PerthAirport     13.5     20.8       0.8  ...  2016     10  14           Yes\n",
              "32502         Sydney      7.3     18.5       0.0  ...  2016      7  29            No\n",
              "99593   MountGambier      7.9     11.5       0.0  ...  2016      5  29            No\n",
              "53456    MountGinini     11.1     22.2       0.0  ...  2016     11  20           Yes\n",
              "47580       Canberra     13.5     27.9      11.4  ...  2016     12  17            No\n",
              "\n",
              "[20779 rows x 25 columns]"
            ]
          },
          "metadata": {
            "tags": []
          },
          "execution_count": 12
        }
      ]
    },
    {
      "cell_type": "code",
      "metadata": {
        "id": "rHPWn8TdJ1qQ",
        "colab_type": "code",
        "colab": {}
      },
      "source": [
        "# cap the outliers in Training set\n",
        "\n",
        "Q1 = temp_df.quantile(0.25)\n",
        "Q3 = temp_df.quantile(0.75)\n",
        "IQR = Q3 - Q1\n",
        "\n",
        "lower_cap = Q1 - 1.5*IQR\n",
        "upper_cap = Q3 + 1.5*IQR\n",
        "\n",
        "features = lower_cap.index.values\n",
        "\n",
        "for feature in features :\n",
        "  temp_df[feature] = np.where(temp_df[feature]<lower_cap[feature],lower_cap[feature], temp_df[feature])\n",
        "  temp_df[feature] = np.where(temp_df[feature]>upper_cap[feature],upper_cap[feature], temp_df[feature])"
      ],
      "execution_count": 0,
      "outputs": []
    },
    {
      "cell_type": "code",
      "metadata": {
        "id": "fLAsTLKALc8o",
        "colab_type": "code",
        "colab": {}
      },
      "source": [
        "# get y_train and X_train from temp_df\n",
        "X_train = temp_df.drop(['RainTomorrow'], axis=1)\n",
        "y_train = temp_df['RainTomorrow']"
      ],
      "execution_count": 0,
      "outputs": []
    },
    {
      "cell_type": "code",
      "metadata": {
        "id": "gz9ymAzGYeit",
        "colab_type": "code",
        "colab": {}
      },
      "source": [
        "# cap outliers on the test set\n",
        "for feature in features :\n",
        "  X_test[feature] = np.where(X_test[feature]<lower_cap[feature],lower_cap[feature], X_test[feature])\n",
        "  X_test[feature] = np.where(X_test[feature]>upper_cap[feature],upper_cap[feature], X_test[feature])"
      ],
      "execution_count": 0,
      "outputs": []
    },
    {
      "cell_type": "markdown",
      "metadata": {
        "id": "N7a_bLnRZz7O",
        "colab_type": "text"
      },
      "source": [
        "# **Create Model Pipeline**"
      ]
    },
    {
      "cell_type": "markdown",
      "metadata": {
        "id": "T8gTLxR-CR9G",
        "colab_type": "text"
      },
      "source": [
        "**Create Preprocessor : ColumnTransformer of numerical and categorical features**"
      ]
    },
    {
      "cell_type": "code",
      "metadata": {
        "id": "gTT3lZG8Cxg9",
        "colab_type": "code",
        "colab": {}
      },
      "source": [
        "numerical_features = [x for x in X.columns if df[x].dtype != 'object']\n",
        "\n",
        "numeric_transformer = Pipeline(steps=[\n",
        "          ('imputer', SimpleImputer(strategy='median')),\n",
        "          ('scaler', MinMaxScaler())\n",
        "])\n",
        "\n",
        "categorical_features = [x for x in X.columns if df[x].dtype == 'object']\n",
        "\n",
        "categorical_transformer = Pipeline(steps=[\n",
        "          ('imputer', SimpleImputer(strategy='most_frequent')),\n",
        "          ('onehot', OneHotEncoder(handle_unknown='ignore'))\n",
        "])\n",
        "\n",
        "preprocessor = ColumnTransformer(\n",
        "    transformers=[\n",
        "          ('num', numeric_transformer, numerical_features),\n",
        "          ('cat', categorical_transformer, categorical_features)\n",
        "    ]\n",
        ")"
      ],
      "execution_count": 0,
      "outputs": []
    },
    {
      "cell_type": "markdown",
      "metadata": {
        "id": "vPVvzPIUSbfy",
        "colab_type": "text"
      },
      "source": [
        "**Create model**"
      ]
    },
    {
      "cell_type": "code",
      "metadata": {
        "id": "QMg6-FaGSQj6",
        "colab_type": "code",
        "colab": {}
      },
      "source": [
        "from sklearn.svm import SVC\n",
        "model = SVC(kernel = 'rbf')"
      ],
      "execution_count": 0,
      "outputs": []
    },
    {
      "cell_type": "markdown",
      "metadata": {
        "id": "gY_lpfneSrHi",
        "colab_type": "text"
      },
      "source": [
        "**Create Pipeline**"
      ]
    },
    {
      "cell_type": "code",
      "metadata": {
        "id": "HJOsYV7mSqkv",
        "colab_type": "code",
        "colab": {}
      },
      "source": [
        "clf = Pipeline(steps=[\n",
        "      ('preprocessor', preprocessor),\n",
        "      ('model', model)\n",
        "])"
      ],
      "execution_count": 0,
      "outputs": []
    },
    {
      "cell_type": "markdown",
      "metadata": {
        "colab_type": "text",
        "id": "r8Sj1iG9Ko0q"
      },
      "source": [
        "# **Cross Validation on Training set**"
      ]
    },
    {
      "cell_type": "code",
      "metadata": {
        "colab_type": "code",
        "id": "a19IDMNwKo0t",
        "colab": {
          "base_uri": "https://localhost:8080/",
          "height": 85
        },
        "outputId": "1124ef7c-85b5-4a50-874d-654df6560bce"
      },
      "source": [
        "accuracy = cross_val_score(clf,X_train,y_train,cv=10)\n",
        "print('accuracy : ', accuracy)\n",
        "print('mean : ', accuracy.mean())\n",
        "print('std : ', accuracy.std())"
      ],
      "execution_count": 19,
      "outputs": [
        {
          "output_type": "stream",
          "text": [
            "accuracy :  [0.8479307  0.84744947 0.84889317 0.84215592 0.84023099 0.85081809\n",
            " 0.85178056 0.84215592 0.86717998 0.85363505]\n",
            "mean :  0.8492229853248581\n",
            "std :  0.007325793404224766\n"
          ],
          "name": "stdout"
        }
      ]
    },
    {
      "cell_type": "markdown",
      "metadata": {
        "colab_type": "text",
        "id": "uuBDr_guKo0x"
      },
      "source": [
        "Note : low bias and low variance"
      ]
    },
    {
      "cell_type": "markdown",
      "metadata": {
        "colab_type": "text",
        "id": "DOpQv9dQKo0x"
      },
      "source": [
        "# **Training and Test sets**"
      ]
    },
    {
      "cell_type": "code",
      "metadata": {
        "colab_type": "code",
        "id": "WmaZx-SOKo0y",
        "colab": {
          "base_uri": "https://localhost:8080/",
          "height": 391
        },
        "outputId": "08ef9f63-44e3-4451-845c-1c1d762481f7"
      },
      "source": [
        "# Make sure your X_test is capped before running this cell\n",
        "\n",
        "clf.fit(X_train,y_train)\n",
        "y_pred = clf.predict(X_test)\n",
        "\n",
        "print('\\n\\nTraining and Test Sets result')\n",
        "print('\\naccuracy score : ', accuracy_score(y_test,y_pred))\n",
        "print('\\nconfusion matrix : \\n', confusion_matrix(y_test, y_pred))\n",
        "print('\\nclassification report : \\n', classification_report(y_test,y_pred))\n",
        "\n",
        "print('Training set score : ',clf.score(X_train,y_train))\n",
        "print('Test set score : ',clf.score(X_test,y_test))"
      ],
      "execution_count": 20,
      "outputs": [
        {
          "output_type": "stream",
          "text": [
            "\n",
            "\n",
            "Training and Test Sets result\n",
            "\n",
            "accuracy score :  0.8450433108758422\n",
            "\n",
            "confusion matrix : \n",
            " [[3833  167]\n",
            " [ 638  557]]\n",
            "\n",
            "classification report : \n",
            "               precision    recall  f1-score   support\n",
            "\n",
            "          No       0.86      0.96      0.90      4000\n",
            "         Yes       0.77      0.47      0.58      1195\n",
            "\n",
            "    accuracy                           0.85      5195\n",
            "   macro avg       0.81      0.71      0.74      5195\n",
            "weighted avg       0.84      0.85      0.83      5195\n",
            "\n",
            "Training set score :  0.8727080225227393\n",
            "Test set score :  0.8450433108758422\n"
          ],
          "name": "stdout"
        }
      ]
    },
    {
      "cell_type": "markdown",
      "metadata": {
        "colab_type": "text",
        "id": "QjGBwLn3Ko02"
      },
      "source": [
        "Note : Training and test scores are slightly different."
      ]
    }
  ]
}